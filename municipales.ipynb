{
 "cells": [
  {
   "cell_type": "code",
   "execution_count": 1,
   "metadata": {},
   "outputs": [],
   "source": [
    "import geopandas as gpd\n",
    "import pandas as pd\n",
    "import matplotlib.pyplot as plt\n",
    "import math\n",
    "\n",
    "import numpy as np\n",
    "import matplotlib as mpl\n",
    "import matplotlib.colors as colors\n",
    "import matplotlib.cbook as cbook\n",
    "from matplotlib import cm\n",
    "import os\n",
    "import re # para remplazar puntos  pop = re.sub(r'[^\\w]','-',pop)     si tiene pop  puntos los cambia por -\n",
    "from numpy import nan\n",
    "  \n",
    "from fuzzywuzzy import fuzz  \n",
    "import unicodedata\n",
    "#str.isnumeric () #si una cadena es un número entero positivo\n",
    "#str.isdecimal() #Determina si una cadena es un decimal\n",
    "#str.isalpha() # determina si la cadena son solo alfabética\n",
    "#str.isdigit()  #Determina si una cadena es un dígito decimal\n",
    "#str.isalnum() #Determinar si la cadena es alfanumérica\n",
    "#str.isascii()#Determina si las cadenas son caracteres ASCII: "
   ]
  },
  {
   "cell_type": "markdown",
   "metadata": {},
   "source": [
    "carga los modulos"
   ]
  },
  {
   "cell_type": "code",
   "execution_count": 2,
   "metadata": {},
   "outputs": [],
   "source": [
    "from Pmod_1  import primer_modulo_1 as mod_1\n",
    "from Pmod_1.primer_modulo_1  import IDs\n",
    "from Pmod_1.primer_modulo_1  import Nombres_1_X2"
   ]
  },
  {
   "cell_type": "code",
   "execution_count": 3,
   "metadata": {},
   "outputs": [
    {
     "data": {
      "text/html": [
       "<div>\n",
       "<style scoped>\n",
       "    .dataframe tbody tr th:only-of-type {\n",
       "        vertical-align: middle;\n",
       "    }\n",
       "\n",
       "    .dataframe tbody tr th {\n",
       "        vertical-align: top;\n",
       "    }\n",
       "\n",
       "    .dataframe thead th {\n",
       "        text-align: right;\n",
       "    }\n",
       "</style>\n",
       "<table border=\"1\" class=\"dataframe\">\n",
       "  <thead>\n",
       "    <tr style=\"text-align: right;\">\n",
       "      <th></th>\n",
       "      <th>0</th>\n",
       "      <th>1</th>\n",
       "    </tr>\n",
       "  </thead>\n",
       "  <tbody>\n",
       "    <tr>\n",
       "      <th>0</th>\n",
       "      <td>Nom_mun</td>\n",
       "      <td>0</td>\n",
       "    </tr>\n",
       "    <tr>\n",
       "      <th>1</th>\n",
       "      <td>Nom_ent</td>\n",
       "      <td>0</td>\n",
       "    </tr>\n",
       "    <tr>\n",
       "      <th>2</th>\n",
       "      <td>DL_Cabecera</td>\n",
       "      <td>0</td>\n",
       "    </tr>\n",
       "    <tr>\n",
       "      <th>3</th>\n",
       "      <td>DF_Cabecera</td>\n",
       "      <td>0</td>\n",
       "    </tr>\n",
       "  </tbody>\n",
       "</table>\n",
       "</div>"
      ],
      "text/plain": [
       "             0  1\n",
       "0      Nom_mun  0\n",
       "1      Nom_ent  0\n",
       "2  DL_Cabecera  0\n",
       "3  DF_Cabecera  0"
      ]
     },
     "execution_count": 3,
     "metadata": {},
     "output_type": "execute_result"
    }
   ],
   "source": [
    "Nombres_1_X2"
   ]
  },
  {
   "cell_type": "code",
   "execution_count": 4,
   "metadata": {},
   "outputs": [
    {
     "data": {
      "text/html": [
       "<div>\n",
       "<style scoped>\n",
       "    .dataframe tbody tr th:only-of-type {\n",
       "        vertical-align: middle;\n",
       "    }\n",
       "\n",
       "    .dataframe tbody tr th {\n",
       "        vertical-align: top;\n",
       "    }\n",
       "\n",
       "    .dataframe thead th {\n",
       "        text-align: right;\n",
       "    }\n",
       "</style>\n",
       "<table border=\"1\" class=\"dataframe\">\n",
       "  <thead>\n",
       "    <tr style=\"text-align: right;\">\n",
       "      <th></th>\n",
       "      <th>0</th>\n",
       "      <th>1</th>\n",
       "    </tr>\n",
       "  </thead>\n",
       "  <tbody>\n",
       "    <tr>\n",
       "      <th>0</th>\n",
       "      <td>entidad</td>\n",
       "      <td>0</td>\n",
       "    </tr>\n",
       "    <tr>\n",
       "      <th>1</th>\n",
       "      <td>seccion</td>\n",
       "      <td>0</td>\n",
       "    </tr>\n",
       "    <tr>\n",
       "      <th>2</th>\n",
       "      <td>municipio</td>\n",
       "      <td>0</td>\n",
       "    </tr>\n",
       "    <tr>\n",
       "      <th>3</th>\n",
       "      <td>distrito_l</td>\n",
       "      <td>0</td>\n",
       "    </tr>\n",
       "    <tr>\n",
       "      <th>4</th>\n",
       "      <td>distrito_f</td>\n",
       "      <td>0</td>\n",
       "    </tr>\n",
       "  </tbody>\n",
       "</table>\n",
       "</div>"
      ],
      "text/plain": [
       "            0  1\n",
       "0     entidad  0\n",
       "1     seccion  0\n",
       "2   municipio  0\n",
       "3  distrito_l  0\n",
       "4  distrito_f  0"
      ]
     },
     "execution_count": 4,
     "metadata": {},
     "output_type": "execute_result"
    }
   ],
   "source": [
    "IDs"
   ]
  },
  {
   "cell_type": "code",
   "execution_count": null,
   "metadata": {},
   "outputs": [],
   "source": []
  },
  {
   "attachments": {},
   "cell_type": "markdown",
   "metadata": {},
   "source": [
    "# solo es valido para Precidencial , gobernador, un solo ayuntamiento y un solo distrito "
   ]
  },
  {
   "attachments": {},
   "cell_type": "markdown",
   "metadata": {},
   "source": [
    "se eleije los datos de la eleccion, deben ser los mismos que se usaron en P1-generador de carpetas."
   ]
  },
  {
   "cell_type": "code",
   "execution_count": 5,
   "metadata": {},
   "outputs": [],
   "source": [
    "from imagenes  import graficas_base_1 as graficas_base_1\n",
    "from imagenes  import Datos\n",
    "from imagenes.Datos  import estado_XX_id"
   ]
  },
  {
   "cell_type": "code",
   "execution_count": null,
   "metadata": {},
   "outputs": [],
   "source": []
  },
  {
   "cell_type": "code",
   "execution_count": 6,
   "metadata": {},
   "outputs": [],
   "source": [
    "tipo_eleccion='Municipal'  # de que fue la eleccion \n",
    "#tipo_eleccion=\"Alcaldia\"\n",
    "#tipo_eleccion='Diputados Federales' \n",
    "#tipo_eleccion='Diputados Locales'\n",
    "#tipo_eleccion='Presidencial'  \n",
    "#tipo_eleccion='Gobernatura' \n",
    "#tipo_eleccion='Senaduria'\n",
    "\n",
    "#clave_entidad=15\n",
    "#tipo_eleccion='Gobernatura'  # de que fue la eleccion \n",
    "año='2024'                  #año de la eleccion\n",
    "\n",
    "#entidad=estado_XX_id.loc[clave_entidad,'NOMBRE_ESTADO']\n",
    "#entidad2=estado_XX_id.loc[clave_entidad,'NOMBRE_ESTADO_2']\n",
    "rut='/Users/ds/Documents/Base_municipales_200924'    #Ruta donde se guardan las bases"
   ]
  },
  {
   "attachments": {},
   "cell_type": "markdown",
   "metadata": {},
   "source": [
    "carga de datos de ventiles"
   ]
  },
  {
   "cell_type": "code",
   "execution_count": 7,
   "metadata": {},
   "outputs": [],
   "source": [
    "gdf1 = gpd.read_file(\"/Users/ds/Documents/carpeta sin título/ventiles/Ventiles 2020/Secciones_2020INE_Ventiles.shp\")   # infromacion de lso ventiles \n",
    "gdf1=gdf1[['entidad','seccion','ventilN','ventilL']]\n",
    "#gdf1=gdf1[gdf1['entidad']==clave_entidad]"
   ]
  },
  {
   "attachments": {},
   "cell_type": "markdown",
   "metadata": {},
   "source": [
    "# para cargar datos csv"
   ]
  },
  {
   "cell_type": "code",
   "execution_count": 8,
   "metadata": {},
   "outputs": [],
   "source": [
    "Ruta_base_prep=Ruta_base_prep=\"/Users/ds/Documents/base_electoral_18_sep_24/Sinaloa/SIN_AYUNTAMIENTO_2024.csv\""
   ]
  },
  {
   "cell_type": "code",
   "execution_count": 9,
   "metadata": {},
   "outputs": [],
   "source": [
    "prep_AA=Ruta_base_prep.split('/')[-2] # solo sirve para poner nombre a la base \n"
   ]
  },
  {
   "cell_type": "code",
   "execution_count": 10,
   "metadata": {},
   "outputs": [
    {
     "data": {
      "text/html": [
       "<div>\n",
       "<style scoped>\n",
       "    .dataframe tbody tr th:only-of-type {\n",
       "        vertical-align: middle;\n",
       "    }\n",
       "\n",
       "    .dataframe tbody tr th {\n",
       "        vertical-align: top;\n",
       "    }\n",
       "\n",
       "    .dataframe thead th {\n",
       "        text-align: right;\n",
       "    }\n",
       "</style>\n",
       "<table border=\"1\" class=\"dataframe\">\n",
       "  <thead>\n",
       "    <tr style=\"text-align: right;\">\n",
       "      <th></th>\n",
       "      <th>ID_ESTADO</th>\n",
       "      <th>NOMBRE_ESTADO</th>\n",
       "      <th>ID_DISTRITO_LOCAL</th>\n",
       "      <th>CABECERA_DISTRITAL_LOCAL</th>\n",
       "      <th>ID_MUNICIPIO_LOCAL</th>\n",
       "      <th>MUNICIPIO_LOCAL</th>\n",
       "      <th>SECCION</th>\n",
       "      <th>TIPO_CASILLA</th>\n",
       "      <th>PAN</th>\n",
       "      <th>PRI</th>\n",
       "      <th>...</th>\n",
       "      <th>C_PAN_PRI</th>\n",
       "      <th>C_PAN_PRD</th>\n",
       "      <th>C_PAN_PAS</th>\n",
       "      <th>C_PRI_PRD</th>\n",
       "      <th>C_PRI_PAS</th>\n",
       "      <th>C_PRD_PAS</th>\n",
       "      <th>CC_PVEM_MORENA</th>\n",
       "      <th>VCN</th>\n",
       "      <th>VN</th>\n",
       "      <th>TOTAL_VOTOS</th>\n",
       "    </tr>\n",
       "  </thead>\n",
       "  <tbody>\n",
       "    <tr>\n",
       "      <th>0</th>\n",
       "      <td>25</td>\n",
       "      <td>SINALOA</td>\n",
       "      <td>4</td>\n",
       "      <td>LOS MOCHIS</td>\n",
       "      <td>1</td>\n",
       "      <td>AHOME</td>\n",
       "      <td>MESA 1</td>\n",
       "      <td>VA</td>\n",
       "      <td>1</td>\n",
       "      <td>1</td>\n",
       "      <td>...</td>\n",
       "      <td>0</td>\n",
       "      <td>0</td>\n",
       "      <td>0</td>\n",
       "      <td>0</td>\n",
       "      <td>0</td>\n",
       "      <td>0</td>\n",
       "      <td>\\N</td>\n",
       "      <td>0</td>\n",
       "      <td>1</td>\n",
       "      <td>16</td>\n",
       "    </tr>\n",
       "    <tr>\n",
       "      <th>1</th>\n",
       "      <td>25</td>\n",
       "      <td>SINALOA</td>\n",
       "      <td>5</td>\n",
       "      <td>LOS MOCHIS</td>\n",
       "      <td>1</td>\n",
       "      <td>AHOME</td>\n",
       "      <td>2</td>\n",
       "      <td>B</td>\n",
       "      <td>29</td>\n",
       "      <td>17</td>\n",
       "      <td>...</td>\n",
       "      <td>0</td>\n",
       "      <td>0</td>\n",
       "      <td>0</td>\n",
       "      <td>0</td>\n",
       "      <td>0</td>\n",
       "      <td>0</td>\n",
       "      <td>\\N</td>\n",
       "      <td>0</td>\n",
       "      <td>7</td>\n",
       "      <td>156</td>\n",
       "    </tr>\n",
       "    <tr>\n",
       "      <th>2</th>\n",
       "      <td>25</td>\n",
       "      <td>SINALOA</td>\n",
       "      <td>5</td>\n",
       "      <td>LOS MOCHIS</td>\n",
       "      <td>1</td>\n",
       "      <td>AHOME</td>\n",
       "      <td>3</td>\n",
       "      <td>B</td>\n",
       "      <td>120</td>\n",
       "      <td>92</td>\n",
       "      <td>...</td>\n",
       "      <td>4</td>\n",
       "      <td>0</td>\n",
       "      <td>0</td>\n",
       "      <td>0</td>\n",
       "      <td>0</td>\n",
       "      <td>0</td>\n",
       "      <td>\\N</td>\n",
       "      <td>0</td>\n",
       "      <td>6</td>\n",
       "      <td>447</td>\n",
       "    </tr>\n",
       "    <tr>\n",
       "      <th>3</th>\n",
       "      <td>25</td>\n",
       "      <td>SINALOA</td>\n",
       "      <td>5</td>\n",
       "      <td>LOS MOCHIS</td>\n",
       "      <td>1</td>\n",
       "      <td>AHOME</td>\n",
       "      <td>4</td>\n",
       "      <td>B</td>\n",
       "      <td>40</td>\n",
       "      <td>46</td>\n",
       "      <td>...</td>\n",
       "      <td>1</td>\n",
       "      <td>0</td>\n",
       "      <td>0</td>\n",
       "      <td>0</td>\n",
       "      <td>1</td>\n",
       "      <td>0</td>\n",
       "      <td>\\N</td>\n",
       "      <td>0</td>\n",
       "      <td>14</td>\n",
       "      <td>259</td>\n",
       "    </tr>\n",
       "    <tr>\n",
       "      <th>4</th>\n",
       "      <td>25</td>\n",
       "      <td>SINALOA</td>\n",
       "      <td>5</td>\n",
       "      <td>LOS MOCHIS</td>\n",
       "      <td>1</td>\n",
       "      <td>AHOME</td>\n",
       "      <td>5</td>\n",
       "      <td>B</td>\n",
       "      <td>29</td>\n",
       "      <td>41</td>\n",
       "      <td>...</td>\n",
       "      <td>1</td>\n",
       "      <td>1</td>\n",
       "      <td>0</td>\n",
       "      <td>0</td>\n",
       "      <td>0</td>\n",
       "      <td>0</td>\n",
       "      <td>\\N</td>\n",
       "      <td>0</td>\n",
       "      <td>21</td>\n",
       "      <td>263</td>\n",
       "    </tr>\n",
       "    <tr>\n",
       "      <th>...</th>\n",
       "      <td>...</td>\n",
       "      <td>...</td>\n",
       "      <td>...</td>\n",
       "      <td>...</td>\n",
       "      <td>...</td>\n",
       "      <td>...</td>\n",
       "      <td>...</td>\n",
       "      <td>...</td>\n",
       "      <td>...</td>\n",
       "      <td>...</td>\n",
       "      <td>...</td>\n",
       "      <td>...</td>\n",
       "      <td>...</td>\n",
       "      <td>...</td>\n",
       "      <td>...</td>\n",
       "      <td>...</td>\n",
       "      <td>...</td>\n",
       "      <td>...</td>\n",
       "      <td>...</td>\n",
       "      <td>...</td>\n",
       "      <td>...</td>\n",
       "    </tr>\n",
       "    <tr>\n",
       "      <th>5169</th>\n",
       "      <td>25</td>\n",
       "      <td>SINALOA</td>\n",
       "      <td>6</td>\n",
       "      <td>MOCORITO</td>\n",
       "      <td>17</td>\n",
       "      <td>SINALOA</td>\n",
       "      <td>3609</td>\n",
       "      <td>B</td>\n",
       "      <td>10</td>\n",
       "      <td>22</td>\n",
       "      <td>...</td>\n",
       "      <td>\\N</td>\n",
       "      <td>\\N</td>\n",
       "      <td>\\N</td>\n",
       "      <td>\\N</td>\n",
       "      <td>\\N</td>\n",
       "      <td>\\N</td>\n",
       "      <td>\\N</td>\n",
       "      <td>0</td>\n",
       "      <td>21</td>\n",
       "      <td>224</td>\n",
       "    </tr>\n",
       "    <tr>\n",
       "      <th>5170</th>\n",
       "      <td>25</td>\n",
       "      <td>SINALOA</td>\n",
       "      <td>6</td>\n",
       "      <td>MOCORITO</td>\n",
       "      <td>17</td>\n",
       "      <td>SINALOA</td>\n",
       "      <td>3610</td>\n",
       "      <td>B</td>\n",
       "      <td>9</td>\n",
       "      <td>20</td>\n",
       "      <td>...</td>\n",
       "      <td>\\N</td>\n",
       "      <td>\\N</td>\n",
       "      <td>\\N</td>\n",
       "      <td>\\N</td>\n",
       "      <td>\\N</td>\n",
       "      <td>\\N</td>\n",
       "      <td>\\N</td>\n",
       "      <td>0</td>\n",
       "      <td>23</td>\n",
       "      <td>333</td>\n",
       "    </tr>\n",
       "    <tr>\n",
       "      <th>5171</th>\n",
       "      <td>25</td>\n",
       "      <td>SINALOA</td>\n",
       "      <td>6</td>\n",
       "      <td>MOCORITO</td>\n",
       "      <td>17</td>\n",
       "      <td>SINALOA</td>\n",
       "      <td>3611</td>\n",
       "      <td>B</td>\n",
       "      <td>15</td>\n",
       "      <td>27</td>\n",
       "      <td>...</td>\n",
       "      <td>\\N</td>\n",
       "      <td>\\N</td>\n",
       "      <td>\\N</td>\n",
       "      <td>\\N</td>\n",
       "      <td>\\N</td>\n",
       "      <td>\\N</td>\n",
       "      <td>\\N</td>\n",
       "      <td>0</td>\n",
       "      <td>26</td>\n",
       "      <td>263</td>\n",
       "    </tr>\n",
       "    <tr>\n",
       "      <th>5172</th>\n",
       "      <td>25</td>\n",
       "      <td>SINALOA</td>\n",
       "      <td>6</td>\n",
       "      <td>MOCORITO</td>\n",
       "      <td>17</td>\n",
       "      <td>SINALOA</td>\n",
       "      <td>3612</td>\n",
       "      <td>B</td>\n",
       "      <td>2</td>\n",
       "      <td>18</td>\n",
       "      <td>...</td>\n",
       "      <td>\\N</td>\n",
       "      <td>\\N</td>\n",
       "      <td>\\N</td>\n",
       "      <td>\\N</td>\n",
       "      <td>\\N</td>\n",
       "      <td>\\N</td>\n",
       "      <td>\\N</td>\n",
       "      <td>0</td>\n",
       "      <td>14</td>\n",
       "      <td>150</td>\n",
       "    </tr>\n",
       "    <tr>\n",
       "      <th>5173</th>\n",
       "      <td>25</td>\n",
       "      <td>SINALOA</td>\n",
       "      <td>6</td>\n",
       "      <td>MOCORITO</td>\n",
       "      <td>17</td>\n",
       "      <td>SINALOA</td>\n",
       "      <td>3613</td>\n",
       "      <td>B</td>\n",
       "      <td>6</td>\n",
       "      <td>15</td>\n",
       "      <td>...</td>\n",
       "      <td>\\N</td>\n",
       "      <td>\\N</td>\n",
       "      <td>\\N</td>\n",
       "      <td>\\N</td>\n",
       "      <td>\\N</td>\n",
       "      <td>\\N</td>\n",
       "      <td>\\N</td>\n",
       "      <td>0</td>\n",
       "      <td>23</td>\n",
       "      <td>316</td>\n",
       "    </tr>\n",
       "  </tbody>\n",
       "</table>\n",
       "<p>5174 rows × 35 columns</p>\n",
       "</div>"
      ],
      "text/plain": [
       "      ID_ESTADO NOMBRE_ESTADO  ID_DISTRITO_LOCAL CABECERA_DISTRITAL_LOCAL  \\\n",
       "0            25       SINALOA                  4               LOS MOCHIS   \n",
       "1            25       SINALOA                  5               LOS MOCHIS   \n",
       "2            25       SINALOA                  5               LOS MOCHIS   \n",
       "3            25       SINALOA                  5               LOS MOCHIS   \n",
       "4            25       SINALOA                  5               LOS MOCHIS   \n",
       "...         ...           ...                ...                      ...   \n",
       "5169         25       SINALOA                  6                 MOCORITO   \n",
       "5170         25       SINALOA                  6                 MOCORITO   \n",
       "5171         25       SINALOA                  6                 MOCORITO   \n",
       "5172         25       SINALOA                  6                 MOCORITO   \n",
       "5173         25       SINALOA                  6                 MOCORITO   \n",
       "\n",
       "      ID_MUNICIPIO_LOCAL MUNICIPIO_LOCAL SECCION TIPO_CASILLA  PAN PRI  ...  \\\n",
       "0                      1           AHOME  MESA 1           VA    1   1  ...   \n",
       "1                      1           AHOME       2            B   29  17  ...   \n",
       "2                      1           AHOME       3            B  120  92  ...   \n",
       "3                      1           AHOME       4            B   40  46  ...   \n",
       "4                      1           AHOME       5            B   29  41  ...   \n",
       "...                  ...             ...     ...          ...  ...  ..  ...   \n",
       "5169                  17         SINALOA    3609            B   10  22  ...   \n",
       "5170                  17         SINALOA    3610            B    9  20  ...   \n",
       "5171                  17         SINALOA    3611            B   15  27  ...   \n",
       "5172                  17         SINALOA    3612            B    2  18  ...   \n",
       "5173                  17         SINALOA    3613            B    6  15  ...   \n",
       "\n",
       "     C_PAN_PRI C_PAN_PRD C_PAN_PAS C_PRI_PRD C_PRI_PAS C_PRD_PAS  \\\n",
       "0            0         0         0         0         0         0   \n",
       "1            0         0         0         0         0         0   \n",
       "2            4         0         0         0         0         0   \n",
       "3            1         0         0         0         1         0   \n",
       "4            1         1         0         0         0         0   \n",
       "...        ...       ...       ...       ...       ...       ...   \n",
       "5169        \\N        \\N        \\N        \\N        \\N        \\N   \n",
       "5170        \\N        \\N        \\N        \\N        \\N        \\N   \n",
       "5171        \\N        \\N        \\N        \\N        \\N        \\N   \n",
       "5172        \\N        \\N        \\N        \\N        \\N        \\N   \n",
       "5173        \\N        \\N        \\N        \\N        \\N        \\N   \n",
       "\n",
       "     CC_PVEM_MORENA VCN  VN TOTAL_VOTOS  \n",
       "0                \\N   0   1          16  \n",
       "1                \\N   0   7         156  \n",
       "2                \\N   0   6         447  \n",
       "3                \\N   0  14         259  \n",
       "4                \\N   0  21         263  \n",
       "...             ...  ..  ..         ...  \n",
       "5169             \\N   0  21         224  \n",
       "5170             \\N   0  23         333  \n",
       "5171             \\N   0  26         263  \n",
       "5172             \\N   0  14         150  \n",
       "5173             \\N   0  23         316  \n",
       "\n",
       "[5174 rows x 35 columns]"
      ]
     },
     "execution_count": 10,
     "metadata": {},
     "output_type": "execute_result"
    }
   ],
   "source": [
    "df11T = pd.read_csv(Ruta_base_prep, header=0, sep=\",\")  # Carga los datos\n",
    "#df11T=pd.read_csv(Ruta_base_prep, header=6)\n",
    "df11T\n"
   ]
  },
  {
   "cell_type": "code",
   "execution_count": null,
   "metadata": {},
   "outputs": [],
   "source": []
  },
  {
   "cell_type": "code",
   "execution_count": 11,
   "metadata": {},
   "outputs": [
    {
     "data": {
      "text/plain": [
       "Index(['ID_ESTADO', 'NOMBRE_ESTADO', 'ID_DISTRITO_LOCAL',\n",
       "       'CABECERA_DISTRITAL_LOCAL', 'ID_MUNICIPIO_LOCAL', 'MUNICIPIO_LOCAL',\n",
       "       'SECCION', 'TIPO_CASILLA', 'PAN', 'PRI', 'PRD', 'PT', 'PVEM', 'MC',\n",
       "       'PAS', 'MORENA', 'PES', 'MAG', 'JSLS', 'VMSA', 'C_PAN_PRI_PRD_PAS',\n",
       "       'C_PAN_PRI_PRD', 'C_PAN_PRI_PAS', 'C_PAN_PRD_PAS', 'C_PRI_PRD_PAS',\n",
       "       'C_PAN_PRI', 'C_PAN_PRD', 'C_PAN_PAS', 'C_PRI_PRD', 'C_PRI_PAS',\n",
       "       'C_PRD_PAS', 'CC_PVEM_MORENA', 'VCN', 'VN', 'TOTAL_VOTOS'],\n",
       "      dtype='object')"
      ]
     },
     "execution_count": 11,
     "metadata": {},
     "output_type": "execute_result"
    }
   ],
   "source": [
    "df11T.columns"
   ]
  },
  {
   "cell_type": "code",
   "execution_count": 12,
   "metadata": {},
   "outputs": [],
   "source": [
    "#df11T=df11T[df11T['CONTABILIZADA']=='1'] #solo en prep\n",
    "#df11T=df11T[df11T['CONTABILIZADA']==1]\n",
    "#df11T"
   ]
  },
  {
   "cell_type": "markdown",
   "metadata": {},
   "source": [
    "Se ponen los IDs de la entidad estas columnas son numeros"
   ]
  },
  {
   "cell_type": "code",
   "execution_count": 13,
   "metadata": {},
   "outputs": [],
   "source": [
    "IDs_entidad=['ID_ESTADO']\n",
    "\n",
    "IDs_seccion=['SECCION']\n",
    "\n",
    "IDs_municipio=['ID_MUNICIPIO_LOCAL']\n",
    "\n",
    "IDs_distrito_l=[]\n",
    "\n",
    "IDs_distrito_f=[]"
   ]
  },
  {
   "cell_type": "markdown",
   "metadata": {},
   "source": [
    "nombres de los ids entidad\n"
   ]
  },
  {
   "cell_type": "code",
   "execution_count": 14,
   "metadata": {},
   "outputs": [],
   "source": [
    "Nombre_municipio=[ 'MUNICIPIO_LOCAL']\n",
    "Nombre_entidad=['NOMBRE_ESTADO']\n",
    "Nombre_Cabecera_distrito_local=[]\n",
    "Nombre_Cabecera_distrito_federal=[]\n"
   ]
  },
  {
   "cell_type": "markdown",
   "metadata": {},
   "source": [
    "# Partidos Politicos"
   ]
  },
  {
   "cell_type": "markdown",
   "metadata": {},
   "source": [
    "aqui  se ponen solo los partidos politicos, además las coaliciones conjuntas(cuando aparece una sola opcion en la boleta ). A las coaliciones conjuntas se deben separar por - ó _  ejemplo además si tienen una C o CC o cM al principio o final no afecta ejempli CC_PAN_PRI_PRD"
   ]
  },
  {
   "cell_type": "markdown",
   "metadata": {},
   "source": [
    "los partidos Politicos se ponen en mayusculas en espcial en todo el pais esta homlogado en nuestra bases ( PAN PRI PRD MORENA PT PVEM PRD) los demas partidos politicos "
   ]
  },
  {
   "cell_type": "code",
   "execution_count": 15,
   "metadata": {},
   "outputs": [
    {
     "data": {
      "text/plain": [
       "Index(['ID_ESTADO', 'NOMBRE_ESTADO', 'ID_DISTRITO_LOCAL',\n",
       "       'CABECERA_DISTRITAL_LOCAL', 'ID_MUNICIPIO_LOCAL', 'MUNICIPIO_LOCAL',\n",
       "       'SECCION', 'TIPO_CASILLA', 'PAN', 'PRI', 'PRD', 'PT', 'PVEM', 'MC',\n",
       "       'PAS', 'MORENA', 'PES', 'MAG', 'JSLS', 'VMSA', 'C_PAN_PRI_PRD_PAS',\n",
       "       'C_PAN_PRI_PRD', 'C_PAN_PRI_PAS', 'C_PAN_PRD_PAS', 'C_PRI_PRD_PAS',\n",
       "       'C_PAN_PRI', 'C_PAN_PRD', 'C_PAN_PAS', 'C_PRI_PRD', 'C_PRI_PAS',\n",
       "       'C_PRD_PAS', 'CC_PVEM_MORENA', 'VCN', 'VN', 'TOTAL_VOTOS'],\n",
       "      dtype='object')"
      ]
     },
     "execution_count": 15,
     "metadata": {},
     "output_type": "execute_result"
    }
   ],
   "source": [
    "df11T.columns "
   ]
  },
  {
   "cell_type": "markdown",
   "metadata": {},
   "source": [
    "Reneombro a los candidatos independientes"
   ]
  },
  {
   "cell_type": "code",
   "execution_count": 16,
   "metadata": {},
   "outputs": [],
   "source": [
    "candidatos_indwpwndientes_1=['CAND_IND']"
   ]
  },
  {
   "cell_type": "code",
   "execution_count": 17,
   "metadata": {},
   "outputs": [],
   "source": [
    "candidatos_indwpwndientes_1_rename=['CAND_IND_1']"
   ]
  },
  {
   "cell_type": "code",
   "execution_count": 18,
   "metadata": {},
   "outputs": [],
   "source": [
    "for n in range(0,len(candidatos_indwpwndientes_1)):\n",
    "    df11T=df11T.rename({candidatos_indwpwndientes_1[n]:candidatos_indwpwndientes_1_rename[n]},axis=1)"
   ]
  },
  {
   "cell_type": "code",
   "execution_count": 19,
   "metadata": {},
   "outputs": [],
   "source": [
    "#df11T.iloc[:,10:]"
   ]
  },
  {
   "cell_type": "code",
   "execution_count": 20,
   "metadata": {},
   "outputs": [
    {
     "data": {
      "text/plain": [
       "Index(['ID_ESTADO', 'NOMBRE_ESTADO', 'ID_DISTRITO_LOCAL',\n",
       "       'CABECERA_DISTRITAL_LOCAL', 'ID_MUNICIPIO_LOCAL', 'MUNICIPIO_LOCAL',\n",
       "       'SECCION', 'TIPO_CASILLA', 'PAN', 'PRI', 'PRD', 'PT', 'PVEM', 'MC',\n",
       "       'PAS', 'MORENA', 'PES', 'MAG', 'JSLS', 'VMSA', 'C_PAN_PRI_PRD_PAS',\n",
       "       'C_PAN_PRI_PRD', 'C_PAN_PRI_PAS', 'C_PAN_PRD_PAS', 'C_PRI_PRD_PAS',\n",
       "       'C_PAN_PRI', 'C_PAN_PRD', 'C_PAN_PAS', 'C_PRI_PRD', 'C_PRI_PAS',\n",
       "       'C_PRD_PAS', 'CC_PVEM_MORENA', 'VCN', 'VN', 'TOTAL_VOTOS'],\n",
       "      dtype='object')"
      ]
     },
     "execution_count": 20,
     "metadata": {},
     "output_type": "execute_result"
    }
   ],
   "source": [
    "df11T.columns"
   ]
  },
  {
   "cell_type": "code",
   "execution_count": 21,
   "metadata": {},
   "outputs": [],
   "source": [
    "Partidos=['PAN', 'PRI', 'PRD', 'PT', 'PVEM', 'MC',\n",
    "       'PAS', 'MORENA', 'PES', 'MAG', 'JSLS', 'VMSA', 'CC_PVEM_MORENA']"
   ]
  },
  {
   "cell_type": "markdown",
   "metadata": {},
   "source": [
    "las coalciones deben estar separadas por _ además de que las siglas que la conforman deben ser las mismas de la lista que se creo arriba. de esta forma a la hora de romper la cadena podemos subtraer la informacion de las columans que esta compuesta"
   ]
  },
  {
   "cell_type": "code",
   "execution_count": 22,
   "metadata": {},
   "outputs": [],
   "source": [
    "coaliciones_RT=['C_PAN_PRI_PRD_PAS',\n",
    "       'C_PAN_PRI_PRD', 'C_PAN_PRI_PAS', 'C_PAN_PRD_PAS', 'C_PRI_PRD_PAS',\n",
    "       'C_PAN_PRI', 'C_PAN_PRD', 'C_PAN_PAS', 'C_PRI_PRD', 'C_PRI_PAS',\n",
    "       'C_PRD_PAS']"
   ]
  },
  {
   "cell_type": "markdown",
   "metadata": {},
   "source": [
    "los candidatos independientes se deben renombrar a CAND_IND enb su primera letras despues se puede poner como viene en la base de datos ejemplo si viene CPRTY se renombra a CAND_IND_CPRTY u otra opcion seriua CAND_IND_1 si no hay la lista puede quedar vacia"
   ]
  },
  {
   "cell_type": "code",
   "execution_count": 23,
   "metadata": {},
   "outputs": [],
   "source": [
    "candidatos_indepentiens=[]\n"
   ]
  },
  {
   "cell_type": "markdown",
   "metadata": {},
   "source": [
    "DAtos de votos nulos y candidatos no registrados. Estas columans son escenciales hasta ahora siemore se an encontrado en las bases de datos si no llegaran a existir y estamos seguros que no hubo vatos de candidatos no registrados y de votos nulos se crea la columna con 0"
   ]
  },
  {
   "cell_type": "markdown",
   "metadata": {},
   "source": [
    "las columans deben tener el nombre  de 'NUM_VOTOS_CAN_NREG','NUM_VOTOS_NULOS' respectivamente"
   ]
  },
  {
   "cell_type": "code",
   "execution_count": 24,
   "metadata": {},
   "outputs": [
    {
     "data": {
      "text/plain": [
       "Index(['ID_ESTADO', 'NOMBRE_ESTADO', 'ID_DISTRITO_LOCAL',\n",
       "       'CABECERA_DISTRITAL_LOCAL', 'ID_MUNICIPIO_LOCAL', 'MUNICIPIO_LOCAL',\n",
       "       'SECCION', 'TIPO_CASILLA', 'PAN', 'PRI', 'PRD', 'PT', 'PVEM', 'MC',\n",
       "       'PAS', 'MORENA', 'PES', 'MAG', 'JSLS', 'VMSA', 'C_PAN_PRI_PRD_PAS',\n",
       "       'C_PAN_PRI_PRD', 'C_PAN_PRI_PAS', 'C_PAN_PRD_PAS', 'C_PRI_PRD_PAS',\n",
       "       'C_PAN_PRI', 'C_PAN_PRD', 'C_PAN_PAS', 'C_PRI_PRD', 'C_PRI_PAS',\n",
       "       'C_PRD_PAS', 'CC_PVEM_MORENA', 'VCN', 'VN', 'TOTAL_VOTOS'],\n",
       "      dtype='object')"
      ]
     },
     "execution_count": 24,
     "metadata": {},
     "output_type": "execute_result"
    }
   ],
   "source": [
    "df11T.columns"
   ]
  },
  {
   "cell_type": "code",
   "execution_count": 25,
   "metadata": {},
   "outputs": [],
   "source": [
    "df11T=df11T.rename({'VCN': 'NUM_VOTOS_CAN_NREG',\n",
    "                    'VN':'NUM_VOTOS_NULOS',\n",
    "                    'LISTA_NOMINAL': 'LISTA_NOMINAL'\n",
    "                    },axis=1)"
   ]
  },
  {
   "cell_type": "code",
   "execution_count": 26,
   "metadata": {},
   "outputs": [],
   "source": [
    "NUM_VOTOS_CAN_NREG=['NUM_VOTOS_CAN_NREG']\n",
    "NUM_VOTOS_NULOS=['NUM_VOTOS_NULOS']"
   ]
  },
  {
   "cell_type": "code",
   "execution_count": 27,
   "metadata": {},
   "outputs": [
    {
     "name": "stdout",
     "output_type": "stream",
     "text": [
      "3793\n"
     ]
    }
   ],
   "source": [
    "print(len(df11T[\"SECCION\"].unique()))"
   ]
  },
  {
   "cell_type": "code",
   "execution_count": null,
   "metadata": {},
   "outputs": [],
   "source": []
  },
  {
   "cell_type": "markdown",
   "metadata": {},
   "source": [
    "# Usando la base de lista nominal"
   ]
  },
  {
   "cell_type": "code",
   "execution_count": 28,
   "metadata": {},
   "outputs": [
    {
     "data": {
      "text/plain": [
       "Index(['entidad', 'Nom_ent', 'distrito_f', 'DF_Cabecera', 'municipio',\n",
       "       'Nom_mun', 'seccion', 'Lista Nominal'],\n",
       "      dtype='object')"
      ]
     },
     "execution_count": 28,
     "metadata": {},
     "output_type": "execute_result"
    }
   ],
   "source": [
    "ruta_nominal=\"/Users/ds/Documents/Lista_Nominal_250924/Lista_Nominal_Pais_250924.csv\"\n",
    "\n",
    "lis_no=pd.read_csv(ruta_nominal, header=0)\n",
    "lis_no.columns"
   ]
  },
  {
   "cell_type": "code",
   "execution_count": 29,
   "metadata": {},
   "outputs": [
    {
     "data": {
      "text/plain": [
       "350652"
      ]
     },
     "execution_count": 29,
     "metadata": {},
     "output_type": "execute_result"
    }
   ],
   "source": [
    "lis_no[(lis_no['entidad']==25)&(lis_no['municipio']==1)&(lis_no['seccion']>0)]['Lista Nominal'].sum()"
   ]
  },
  {
   "cell_type": "code",
   "execution_count": 30,
   "metadata": {},
   "outputs": [
    {
     "data": {
      "text/plain": [
       "3611724"
      ]
     },
     "execution_count": 30,
     "metadata": {},
     "output_type": "execute_result"
    }
   ],
   "source": [
    "lis_no[(lis_no['municipio']==1)&(lis_no['seccion']>0)]['Lista Nominal'].sum()"
   ]
  },
  {
   "cell_type": "code",
   "execution_count": 31,
   "metadata": {},
   "outputs": [],
   "source": [
    "lis_nominal=lis_no[lis_no[\"entidad\"]==25]"
   ]
  },
  {
   "cell_type": "code",
   "execution_count": 32,
   "metadata": {},
   "outputs": [
    {
     "data": {
      "text/html": [
       "<div>\n",
       "<style scoped>\n",
       "    .dataframe tbody tr th:only-of-type {\n",
       "        vertical-align: middle;\n",
       "    }\n",
       "\n",
       "    .dataframe tbody tr th {\n",
       "        vertical-align: top;\n",
       "    }\n",
       "\n",
       "    .dataframe thead th {\n",
       "        text-align: right;\n",
       "    }\n",
       "</style>\n",
       "<table border=\"1\" class=\"dataframe\">\n",
       "  <thead>\n",
       "    <tr style=\"text-align: right;\">\n",
       "      <th></th>\n",
       "      <th>entidad</th>\n",
       "      <th>Nom_ent</th>\n",
       "      <th>distrito_f</th>\n",
       "      <th>DF_Cabecera</th>\n",
       "      <th>municipio</th>\n",
       "      <th>Nom_mun</th>\n",
       "      <th>seccion</th>\n",
       "      <th>Lista Nominal</th>\n",
       "    </tr>\n",
       "  </thead>\n",
       "  <tbody>\n",
       "    <tr>\n",
       "      <th>54266</th>\n",
       "      <td>25</td>\n",
       "      <td>RESIDENTES EXTRANJERO</td>\n",
       "      <td>0</td>\n",
       "      <td>0</td>\n",
       "      <td>0</td>\n",
       "      <td>0</td>\n",
       "      <td>0</td>\n",
       "      <td>13194</td>\n",
       "    </tr>\n",
       "    <tr>\n",
       "      <th>54267</th>\n",
       "      <td>25</td>\n",
       "      <td>SINALOA</td>\n",
       "      <td>1</td>\n",
       "      <td>MAZATLAN                                      ...</td>\n",
       "      <td>4</td>\n",
       "      <td>CONCORDIA</td>\n",
       "      <td>629</td>\n",
       "      <td>598</td>\n",
       "    </tr>\n",
       "    <tr>\n",
       "      <th>54268</th>\n",
       "      <td>25</td>\n",
       "      <td>SINALOA</td>\n",
       "      <td>1</td>\n",
       "      <td>MAZATLAN                                      ...</td>\n",
       "      <td>4</td>\n",
       "      <td>CONCORDIA</td>\n",
       "      <td>630</td>\n",
       "      <td>308</td>\n",
       "    </tr>\n",
       "    <tr>\n",
       "      <th>54269</th>\n",
       "      <td>25</td>\n",
       "      <td>SINALOA</td>\n",
       "      <td>1</td>\n",
       "      <td>MAZATLAN                                      ...</td>\n",
       "      <td>4</td>\n",
       "      <td>CONCORDIA</td>\n",
       "      <td>631</td>\n",
       "      <td>790</td>\n",
       "    </tr>\n",
       "    <tr>\n",
       "      <th>54270</th>\n",
       "      <td>25</td>\n",
       "      <td>SINALOA</td>\n",
       "      <td>1</td>\n",
       "      <td>MAZATLAN                                      ...</td>\n",
       "      <td>4</td>\n",
       "      <td>CONCORDIA</td>\n",
       "      <td>632</td>\n",
       "      <td>1204</td>\n",
       "    </tr>\n",
       "    <tr>\n",
       "      <th>...</th>\n",
       "      <td>...</td>\n",
       "      <td>...</td>\n",
       "      <td>...</td>\n",
       "      <td>...</td>\n",
       "      <td>...</td>\n",
       "      <td>...</td>\n",
       "      <td>...</td>\n",
       "      <td>...</td>\n",
       "    </tr>\n",
       "    <tr>\n",
       "      <th>58090</th>\n",
       "      <td>25</td>\n",
       "      <td>SINALOA</td>\n",
       "      <td>7</td>\n",
       "      <td>CULIACAN                                      ...</td>\n",
       "      <td>6</td>\n",
       "      <td>CULIACAN</td>\n",
       "      <td>3993</td>\n",
       "      <td>3090</td>\n",
       "    </tr>\n",
       "    <tr>\n",
       "      <th>58091</th>\n",
       "      <td>25</td>\n",
       "      <td>SINALOA</td>\n",
       "      <td>7</td>\n",
       "      <td>CULIACAN                                      ...</td>\n",
       "      <td>6</td>\n",
       "      <td>CULIACAN</td>\n",
       "      <td>3994</td>\n",
       "      <td>1915</td>\n",
       "    </tr>\n",
       "    <tr>\n",
       "      <th>58092</th>\n",
       "      <td>25</td>\n",
       "      <td>SINALOA</td>\n",
       "      <td>7</td>\n",
       "      <td>CULIACAN                                      ...</td>\n",
       "      <td>6</td>\n",
       "      <td>CULIACAN</td>\n",
       "      <td>3995</td>\n",
       "      <td>1120</td>\n",
       "    </tr>\n",
       "    <tr>\n",
       "      <th>58093</th>\n",
       "      <td>25</td>\n",
       "      <td>SINALOA</td>\n",
       "      <td>7</td>\n",
       "      <td>CULIACAN                                      ...</td>\n",
       "      <td>6</td>\n",
       "      <td>CULIACAN</td>\n",
       "      <td>3996</td>\n",
       "      <td>1762</td>\n",
       "    </tr>\n",
       "    <tr>\n",
       "      <th>58094</th>\n",
       "      <td>25</td>\n",
       "      <td>SINALOA</td>\n",
       "      <td>7</td>\n",
       "      <td>CULIACAN                                      ...</td>\n",
       "      <td>6</td>\n",
       "      <td>CULIACAN</td>\n",
       "      <td>3997</td>\n",
       "      <td>2459</td>\n",
       "    </tr>\n",
       "  </tbody>\n",
       "</table>\n",
       "<p>3829 rows × 8 columns</p>\n",
       "</div>"
      ],
      "text/plain": [
       "       entidad                Nom_ent  distrito_f  \\\n",
       "54266       25  RESIDENTES EXTRANJERO           0   \n",
       "54267       25                SINALOA           1   \n",
       "54268       25                SINALOA           1   \n",
       "54269       25                SINALOA           1   \n",
       "54270       25                SINALOA           1   \n",
       "...        ...                    ...         ...   \n",
       "58090       25                SINALOA           7   \n",
       "58091       25                SINALOA           7   \n",
       "58092       25                SINALOA           7   \n",
       "58093       25                SINALOA           7   \n",
       "58094       25                SINALOA           7   \n",
       "\n",
       "                                             DF_Cabecera  municipio  \\\n",
       "54266                                                  0          0   \n",
       "54267  MAZATLAN                                      ...          4   \n",
       "54268  MAZATLAN                                      ...          4   \n",
       "54269  MAZATLAN                                      ...          4   \n",
       "54270  MAZATLAN                                      ...          4   \n",
       "...                                                  ...        ...   \n",
       "58090  CULIACAN                                      ...          6   \n",
       "58091  CULIACAN                                      ...          6   \n",
       "58092  CULIACAN                                      ...          6   \n",
       "58093  CULIACAN                                      ...          6   \n",
       "58094  CULIACAN                                      ...          6   \n",
       "\n",
       "         Nom_mun  seccion  Lista Nominal  \n",
       "54266          0        0          13194  \n",
       "54267  CONCORDIA      629            598  \n",
       "54268  CONCORDIA      630            308  \n",
       "54269  CONCORDIA      631            790  \n",
       "54270  CONCORDIA      632           1204  \n",
       "...          ...      ...            ...  \n",
       "58090   CULIACAN     3993           3090  \n",
       "58091   CULIACAN     3994           1915  \n",
       "58092   CULIACAN     3995           1120  \n",
       "58093   CULIACAN     3996           1762  \n",
       "58094   CULIACAN     3997           2459  \n",
       "\n",
       "[3829 rows x 8 columns]"
      ]
     },
     "execution_count": 32,
     "metadata": {},
     "output_type": "execute_result"
    }
   ],
   "source": [
    "lis_nominal"
   ]
  },
  {
   "cell_type": "code",
   "execution_count": 37,
   "metadata": {},
   "outputs": [
    {
     "data": {
      "text/plain": [
       "350652"
      ]
     },
     "execution_count": 37,
     "metadata": {},
     "output_type": "execute_result"
    }
   ],
   "source": [
    "lis_nominal[(lis_nominal['municipio']==1)&(lis_nominal['seccion']>0)]['Lista Nominal'].sum()"
   ]
  },
  {
   "cell_type": "code",
   "execution_count": 38,
   "metadata": {},
   "outputs": [
    {
     "data": {
      "text/plain": [
       "Index(['ID_ESTADO', 'NOMBRE_ESTADO', 'ID_DISTRITO_LOCAL',\n",
       "       'CABECERA_DISTRITAL_LOCAL', 'ID_MUNICIPIO_LOCAL', 'MUNICIPIO_LOCAL',\n",
       "       'SECCION', 'TIPO_CASILLA', 'PAN', 'PRI', 'PRD', 'PT', 'PVEM', 'MC',\n",
       "       'PAS', 'MORENA', 'PES', 'MAG', 'JSLS', 'VMSA', 'C_PAN_PRI_PRD_PAS',\n",
       "       'C_PAN_PRI_PRD', 'C_PAN_PRI_PAS', 'C_PAN_PRD_PAS', 'C_PRI_PRD_PAS',\n",
       "       'C_PAN_PRI', 'C_PAN_PRD', 'C_PAN_PAS', 'C_PRI_PRD', 'C_PRI_PAS',\n",
       "       'C_PRD_PAS', 'CC_PVEM_MORENA', 'NUM_VOTOS_CAN_NREG', 'NUM_VOTOS_NULOS',\n",
       "       'TOTAL_VOTOS'],\n",
       "      dtype='object')"
      ]
     },
     "execution_count": 38,
     "metadata": {},
     "output_type": "execute_result"
    }
   ],
   "source": [
    "df11T.columns"
   ]
  },
  {
   "cell_type": "code",
   "execution_count": 39,
   "metadata": {},
   "outputs": [
    {
     "data": {
      "text/plain": [
       "Index(['ID_ESTADO', 'NOMBRE_ESTADO', 'ID_MUNICIPIO_LOCAL', 'MUNICIPIO_LOCAL',\n",
       "       'SECCION', 'LISTA_NOMINAL'],\n",
       "      dtype='object')"
      ]
     },
     "execution_count": 39,
     "metadata": {},
     "output_type": "execute_result"
    }
   ],
   "source": [
    "lis_nominal= lis_nominal[['entidad', 'Nom_ent', 'municipio',\n",
    "       'Nom_mun', 'seccion', 'Lista Nominal']]\n",
    "\n",
    "\n",
    "lis_nominal=lis_nominal.rename(columns={'entidad': 'ID_ESTADO'\n",
    "                            , 'Nom_ent': 'NOMBRE_ESTADO'\n",
    "                            , 'municipio':'ID_MUNICIPIO_LOCAL'\n",
    "                            ,'Nom_mun': 'MUNICIPIO_LOCAL'\n",
    "                            , 'seccion': 'SECCION'\n",
    "                            , 'Lista Nominal': 'LISTA_NOMINAL'\n",
    "    \n",
    "})\n",
    "lis_nominal.columns"
   ]
  },
  {
   "cell_type": "code",
   "execution_count": 40,
   "metadata": {},
   "outputs": [],
   "source": [
    "df11T_1=df11T.copy()\n",
    "lis_nominal_1= lis_nominal.copy()\n",
    "\n"
   ]
  },
  {
   "cell_type": "code",
   "execution_count": 67,
   "metadata": {},
   "outputs": [
    {
     "data": {
      "text/plain": [
       "ID_ESTADO                    int64\n",
       "NOMBRE_ESTADO               object\n",
       "ID_DISTRITO_LOCAL            int64\n",
       "CABECERA_DISTRITAL_LOCAL    object\n",
       "ID_MUNICIPIO_LOCAL           int64\n",
       "MUNICIPIO_LOCAL             object\n",
       "SECCION                      int64\n",
       "TIPO_CASILLA                object\n",
       "PAN                         object\n",
       "PRI                         object\n",
       "PRD                         object\n",
       "PT                          object\n",
       "PVEM                        object\n",
       "MC                          object\n",
       "PAS                         object\n",
       "MORENA                      object\n",
       "PES                         object\n",
       "MAG                         object\n",
       "JSLS                        object\n",
       "VMSA                        object\n",
       "C_PAN_PRI_PRD_PAS           object\n",
       "C_PAN_PRI_PRD               object\n",
       "C_PAN_PRI_PAS               object\n",
       "C_PAN_PRD_PAS               object\n",
       "C_PRI_PRD_PAS               object\n",
       "C_PAN_PRI                   object\n",
       "C_PAN_PRD                   object\n",
       "C_PAN_PAS                   object\n",
       "C_PRI_PRD                   object\n",
       "C_PRI_PAS                   object\n",
       "C_PRD_PAS                   object\n",
       "CC_PVEM_MORENA              object\n",
       "NUM_VOTOS_CAN_NREG          object\n",
       "NUM_VOTOS_NULOS             object\n",
       "TOTAL_VOTOS                 object\n",
       "dtype: object"
      ]
     },
     "execution_count": 67,
     "metadata": {},
     "output_type": "execute_result"
    }
   ],
   "source": [
    "df11T_1[\"SECCION\"]=df11T_1[\"SECCION\"].replace(\"MESA\", \"\", regex=True)\n",
    "df11T_1[['ID_MUNICIPIO_LOCAL','SECCION']]=df11T_1[['ID_MUNICIPIO_LOCAL','SECCION']].astype(\"int\")\n",
    "lis_nominal_1[['ID_MUNICIPIO_LOCAL','SECCION', 'LISTA_NOMINAL']]=lis_nominal_1[['ID_MUNICIPIO_LOCAL','SECCION', 'LISTA_NOMINAL']].astype(\"int\")\n",
    "df11T_1.dtypes"
   ]
  },
  {
   "cell_type": "code",
   "execution_count": 68,
   "metadata": {},
   "outputs": [
    {
     "data": {
      "text/plain": [
       "ID_ESTADO              int64\n",
       "NOMBRE_ESTADO         object\n",
       "ID_MUNICIPIO_LOCAL     int64\n",
       "MUNICIPIO_LOCAL       object\n",
       "SECCION                int64\n",
       "LISTA_NOMINAL          int64\n",
       "dtype: object"
      ]
     },
     "execution_count": 68,
     "metadata": {},
     "output_type": "execute_result"
    }
   ],
   "source": [
    "lis_nominal_1.dtypes"
   ]
  },
  {
   "cell_type": "code",
   "execution_count": 69,
   "metadata": {},
   "outputs": [
    {
     "data": {
      "text/plain": [
       "Index(['ID_ESTADO', 'NOMBRE_ESTADO', 'ID_MUNICIPIO_LOCAL', 'MUNICIPIO_LOCAL',\n",
       "       'SECCION', 'LISTA_NOMINAL'],\n",
       "      dtype='object')"
      ]
     },
     "execution_count": 69,
     "metadata": {},
     "output_type": "execute_result"
    }
   ],
   "source": [
    "lis_nominal_1.columns"
   ]
  },
  {
   "cell_type": "code",
   "execution_count": 108,
   "metadata": {},
   "outputs": [
    {
     "data": {
      "text/html": [
       "<div>\n",
       "<style scoped>\n",
       "    .dataframe tbody tr th:only-of-type {\n",
       "        vertical-align: middle;\n",
       "    }\n",
       "\n",
       "    .dataframe tbody tr th {\n",
       "        vertical-align: top;\n",
       "    }\n",
       "\n",
       "    .dataframe thead th {\n",
       "        text-align: right;\n",
       "    }\n",
       "</style>\n",
       "<table border=\"1\" class=\"dataframe\">\n",
       "  <thead>\n",
       "    <tr style=\"text-align: right;\">\n",
       "      <th></th>\n",
       "      <th>ID_ESTADO</th>\n",
       "      <th>NOMBRE_ESTADO</th>\n",
       "      <th>ID_DISTRITO_LOCAL</th>\n",
       "      <th>CABECERA_DISTRITAL_LOCAL</th>\n",
       "      <th>ID_MUNICIPIO_LOCAL</th>\n",
       "      <th>MUNICIPIO_LOCAL</th>\n",
       "      <th>SECCION</th>\n",
       "      <th>TIPO_CASILLA</th>\n",
       "      <th>PAN</th>\n",
       "      <th>PRI</th>\n",
       "      <th>...</th>\n",
       "      <th>C_PAN_PRI</th>\n",
       "      <th>C_PAN_PRD</th>\n",
       "      <th>C_PAN_PAS</th>\n",
       "      <th>C_PRI_PRD</th>\n",
       "      <th>C_PRI_PAS</th>\n",
       "      <th>C_PRD_PAS</th>\n",
       "      <th>CC_PVEM_MORENA</th>\n",
       "      <th>NUM_VOTOS_CAN_NREG</th>\n",
       "      <th>NUM_VOTOS_NULOS</th>\n",
       "      <th>TOTAL_VOTOS</th>\n",
       "    </tr>\n",
       "  </thead>\n",
       "  <tbody>\n",
       "    <tr>\n",
       "      <th>0</th>\n",
       "      <td>25</td>\n",
       "      <td>SINALOA</td>\n",
       "      <td>5</td>\n",
       "      <td>LOS MOCHIS</td>\n",
       "      <td>1</td>\n",
       "      <td>AHOME</td>\n",
       "      <td>2</td>\n",
       "      <td>B</td>\n",
       "      <td>29</td>\n",
       "      <td>17</td>\n",
       "      <td>...</td>\n",
       "      <td>0</td>\n",
       "      <td>0</td>\n",
       "      <td>0</td>\n",
       "      <td>0</td>\n",
       "      <td>0</td>\n",
       "      <td>0</td>\n",
       "      <td>\\N</td>\n",
       "      <td>0</td>\n",
       "      <td>7</td>\n",
       "      <td>156</td>\n",
       "    </tr>\n",
       "    <tr>\n",
       "      <th>1</th>\n",
       "      <td>25</td>\n",
       "      <td>SINALOA</td>\n",
       "      <td>5</td>\n",
       "      <td>LOS MOCHIS</td>\n",
       "      <td>1</td>\n",
       "      <td>AHOME</td>\n",
       "      <td>3</td>\n",
       "      <td>B</td>\n",
       "      <td>120</td>\n",
       "      <td>92</td>\n",
       "      <td>...</td>\n",
       "      <td>4</td>\n",
       "      <td>0</td>\n",
       "      <td>0</td>\n",
       "      <td>0</td>\n",
       "      <td>0</td>\n",
       "      <td>0</td>\n",
       "      <td>\\N</td>\n",
       "      <td>0</td>\n",
       "      <td>6</td>\n",
       "      <td>447</td>\n",
       "    </tr>\n",
       "    <tr>\n",
       "      <th>2</th>\n",
       "      <td>25</td>\n",
       "      <td>SINALOA</td>\n",
       "      <td>5</td>\n",
       "      <td>LOS MOCHIS</td>\n",
       "      <td>1</td>\n",
       "      <td>AHOME</td>\n",
       "      <td>4</td>\n",
       "      <td>B</td>\n",
       "      <td>40</td>\n",
       "      <td>46</td>\n",
       "      <td>...</td>\n",
       "      <td>1</td>\n",
       "      <td>0</td>\n",
       "      <td>0</td>\n",
       "      <td>0</td>\n",
       "      <td>1</td>\n",
       "      <td>0</td>\n",
       "      <td>\\N</td>\n",
       "      <td>0</td>\n",
       "      <td>14</td>\n",
       "      <td>259</td>\n",
       "    </tr>\n",
       "    <tr>\n",
       "      <th>3</th>\n",
       "      <td>25</td>\n",
       "      <td>SINALOA</td>\n",
       "      <td>5</td>\n",
       "      <td>LOS MOCHIS</td>\n",
       "      <td>1</td>\n",
       "      <td>AHOME</td>\n",
       "      <td>5</td>\n",
       "      <td>B</td>\n",
       "      <td>29</td>\n",
       "      <td>41</td>\n",
       "      <td>...</td>\n",
       "      <td>1</td>\n",
       "      <td>1</td>\n",
       "      <td>0</td>\n",
       "      <td>0</td>\n",
       "      <td>0</td>\n",
       "      <td>0</td>\n",
       "      <td>\\N</td>\n",
       "      <td>0</td>\n",
       "      <td>21</td>\n",
       "      <td>263</td>\n",
       "    </tr>\n",
       "    <tr>\n",
       "      <th>4</th>\n",
       "      <td>25</td>\n",
       "      <td>SINALOA</td>\n",
       "      <td>5</td>\n",
       "      <td>LOS MOCHIS</td>\n",
       "      <td>1</td>\n",
       "      <td>AHOME</td>\n",
       "      <td>6</td>\n",
       "      <td>B</td>\n",
       "      <td>17</td>\n",
       "      <td>13</td>\n",
       "      <td>...</td>\n",
       "      <td>0</td>\n",
       "      <td>0</td>\n",
       "      <td>1</td>\n",
       "      <td>0</td>\n",
       "      <td>0</td>\n",
       "      <td>0</td>\n",
       "      <td>\\N</td>\n",
       "      <td>0</td>\n",
       "      <td>10</td>\n",
       "      <td>148</td>\n",
       "    </tr>\n",
       "    <tr>\n",
       "      <th>...</th>\n",
       "      <td>...</td>\n",
       "      <td>...</td>\n",
       "      <td>...</td>\n",
       "      <td>...</td>\n",
       "      <td>...</td>\n",
       "      <td>...</td>\n",
       "      <td>...</td>\n",
       "      <td>...</td>\n",
       "      <td>...</td>\n",
       "      <td>...</td>\n",
       "      <td>...</td>\n",
       "      <td>...</td>\n",
       "      <td>...</td>\n",
       "      <td>...</td>\n",
       "      <td>...</td>\n",
       "      <td>...</td>\n",
       "      <td>...</td>\n",
       "      <td>...</td>\n",
       "      <td>...</td>\n",
       "      <td>...</td>\n",
       "      <td>...</td>\n",
       "    </tr>\n",
       "    <tr>\n",
       "      <th>5089</th>\n",
       "      <td>25</td>\n",
       "      <td>SINALOA</td>\n",
       "      <td>6</td>\n",
       "      <td>MOCORITO</td>\n",
       "      <td>17</td>\n",
       "      <td>SINALOA</td>\n",
       "      <td>3609</td>\n",
       "      <td>B</td>\n",
       "      <td>10</td>\n",
       "      <td>22</td>\n",
       "      <td>...</td>\n",
       "      <td>\\N</td>\n",
       "      <td>\\N</td>\n",
       "      <td>\\N</td>\n",
       "      <td>\\N</td>\n",
       "      <td>\\N</td>\n",
       "      <td>\\N</td>\n",
       "      <td>\\N</td>\n",
       "      <td>0</td>\n",
       "      <td>21</td>\n",
       "      <td>224</td>\n",
       "    </tr>\n",
       "    <tr>\n",
       "      <th>5090</th>\n",
       "      <td>25</td>\n",
       "      <td>SINALOA</td>\n",
       "      <td>6</td>\n",
       "      <td>MOCORITO</td>\n",
       "      <td>17</td>\n",
       "      <td>SINALOA</td>\n",
       "      <td>3610</td>\n",
       "      <td>B</td>\n",
       "      <td>9</td>\n",
       "      <td>20</td>\n",
       "      <td>...</td>\n",
       "      <td>\\N</td>\n",
       "      <td>\\N</td>\n",
       "      <td>\\N</td>\n",
       "      <td>\\N</td>\n",
       "      <td>\\N</td>\n",
       "      <td>\\N</td>\n",
       "      <td>\\N</td>\n",
       "      <td>0</td>\n",
       "      <td>23</td>\n",
       "      <td>333</td>\n",
       "    </tr>\n",
       "    <tr>\n",
       "      <th>5091</th>\n",
       "      <td>25</td>\n",
       "      <td>SINALOA</td>\n",
       "      <td>6</td>\n",
       "      <td>MOCORITO</td>\n",
       "      <td>17</td>\n",
       "      <td>SINALOA</td>\n",
       "      <td>3611</td>\n",
       "      <td>B</td>\n",
       "      <td>15</td>\n",
       "      <td>27</td>\n",
       "      <td>...</td>\n",
       "      <td>\\N</td>\n",
       "      <td>\\N</td>\n",
       "      <td>\\N</td>\n",
       "      <td>\\N</td>\n",
       "      <td>\\N</td>\n",
       "      <td>\\N</td>\n",
       "      <td>\\N</td>\n",
       "      <td>0</td>\n",
       "      <td>26</td>\n",
       "      <td>263</td>\n",
       "    </tr>\n",
       "    <tr>\n",
       "      <th>5092</th>\n",
       "      <td>25</td>\n",
       "      <td>SINALOA</td>\n",
       "      <td>6</td>\n",
       "      <td>MOCORITO</td>\n",
       "      <td>17</td>\n",
       "      <td>SINALOA</td>\n",
       "      <td>3612</td>\n",
       "      <td>B</td>\n",
       "      <td>2</td>\n",
       "      <td>18</td>\n",
       "      <td>...</td>\n",
       "      <td>\\N</td>\n",
       "      <td>\\N</td>\n",
       "      <td>\\N</td>\n",
       "      <td>\\N</td>\n",
       "      <td>\\N</td>\n",
       "      <td>\\N</td>\n",
       "      <td>\\N</td>\n",
       "      <td>0</td>\n",
       "      <td>14</td>\n",
       "      <td>150</td>\n",
       "    </tr>\n",
       "    <tr>\n",
       "      <th>5093</th>\n",
       "      <td>25</td>\n",
       "      <td>SINALOA</td>\n",
       "      <td>6</td>\n",
       "      <td>MOCORITO</td>\n",
       "      <td>17</td>\n",
       "      <td>SINALOA</td>\n",
       "      <td>3613</td>\n",
       "      <td>B</td>\n",
       "      <td>6</td>\n",
       "      <td>15</td>\n",
       "      <td>...</td>\n",
       "      <td>\\N</td>\n",
       "      <td>\\N</td>\n",
       "      <td>\\N</td>\n",
       "      <td>\\N</td>\n",
       "      <td>\\N</td>\n",
       "      <td>\\N</td>\n",
       "      <td>\\N</td>\n",
       "      <td>0</td>\n",
       "      <td>23</td>\n",
       "      <td>316</td>\n",
       "    </tr>\n",
       "  </tbody>\n",
       "</table>\n",
       "<p>5094 rows × 35 columns</p>\n",
       "</div>"
      ],
      "text/plain": [
       "      ID_ESTADO NOMBRE_ESTADO  ID_DISTRITO_LOCAL CABECERA_DISTRITAL_LOCAL  \\\n",
       "0            25       SINALOA                  5               LOS MOCHIS   \n",
       "1            25       SINALOA                  5               LOS MOCHIS   \n",
       "2            25       SINALOA                  5               LOS MOCHIS   \n",
       "3            25       SINALOA                  5               LOS MOCHIS   \n",
       "4            25       SINALOA                  5               LOS MOCHIS   \n",
       "...         ...           ...                ...                      ...   \n",
       "5089         25       SINALOA                  6                 MOCORITO   \n",
       "5090         25       SINALOA                  6                 MOCORITO   \n",
       "5091         25       SINALOA                  6                 MOCORITO   \n",
       "5092         25       SINALOA                  6                 MOCORITO   \n",
       "5093         25       SINALOA                  6                 MOCORITO   \n",
       "\n",
       "      ID_MUNICIPIO_LOCAL MUNICIPIO_LOCAL  SECCION TIPO_CASILLA  PAN PRI  ...  \\\n",
       "0                      1           AHOME        2            B   29  17  ...   \n",
       "1                      1           AHOME        3            B  120  92  ...   \n",
       "2                      1           AHOME        4            B   40  46  ...   \n",
       "3                      1           AHOME        5            B   29  41  ...   \n",
       "4                      1           AHOME        6            B   17  13  ...   \n",
       "...                  ...             ...      ...          ...  ...  ..  ...   \n",
       "5089                  17         SINALOA     3609            B   10  22  ...   \n",
       "5090                  17         SINALOA     3610            B    9  20  ...   \n",
       "5091                  17         SINALOA     3611            B   15  27  ...   \n",
       "5092                  17         SINALOA     3612            B    2  18  ...   \n",
       "5093                  17         SINALOA     3613            B    6  15  ...   \n",
       "\n",
       "     C_PAN_PRI C_PAN_PRD C_PAN_PAS C_PRI_PRD C_PRI_PAS C_PRD_PAS  \\\n",
       "0            0         0         0         0         0         0   \n",
       "1            4         0         0         0         0         0   \n",
       "2            1         0         0         0         1         0   \n",
       "3            1         1         0         0         0         0   \n",
       "4            0         0         1         0         0         0   \n",
       "...        ...       ...       ...       ...       ...       ...   \n",
       "5089        \\N        \\N        \\N        \\N        \\N        \\N   \n",
       "5090        \\N        \\N        \\N        \\N        \\N        \\N   \n",
       "5091        \\N        \\N        \\N        \\N        \\N        \\N   \n",
       "5092        \\N        \\N        \\N        \\N        \\N        \\N   \n",
       "5093        \\N        \\N        \\N        \\N        \\N        \\N   \n",
       "\n",
       "     CC_PVEM_MORENA NUM_VOTOS_CAN_NREG NUM_VOTOS_NULOS TOTAL_VOTOS  \n",
       "0                \\N                  0               7         156  \n",
       "1                \\N                  0               6         447  \n",
       "2                \\N                  0              14         259  \n",
       "3                \\N                  0              21         263  \n",
       "4                \\N                  0              10         148  \n",
       "...             ...                ...             ...         ...  \n",
       "5089             \\N                  0              21         224  \n",
       "5090             \\N                  0              23         333  \n",
       "5091             \\N                  0              26         263  \n",
       "5092             \\N                  0              14         150  \n",
       "5093             \\N                  0              23         316  \n",
       "\n",
       "[5094 rows x 35 columns]"
      ]
     },
     "execution_count": 108,
     "metadata": {},
     "output_type": "execute_result"
    }
   ],
   "source": [
    "union=pd.merge(df11T_1, lis_nominal_1[['ID_MUNICIPIO_LOCAL','SECCION']], how=\"inner\", on=['ID_MUNICIPIO_LOCAL','SECCION'])\n",
    "\n",
    "#union= union.drop_duplicates()\n",
    "union"
   ]
  },
  {
   "cell_type": "code",
   "execution_count": 109,
   "metadata": {},
   "outputs": [
    {
     "name": "stdout",
     "output_type": "stream",
     "text": [
      "3829\n",
      "3791\n"
     ]
    }
   ],
   "source": [
    "print(len(lis_nominal_1[\"SECCION\"].unique()))\n",
    "print(len(df11T_1[\"SECCION\"].unique()))"
   ]
  },
  {
   "cell_type": "code",
   "execution_count": 110,
   "metadata": {},
   "outputs": [
    {
     "data": {
      "text/html": [
       "<div>\n",
       "<style scoped>\n",
       "    .dataframe tbody tr th:only-of-type {\n",
       "        vertical-align: middle;\n",
       "    }\n",
       "\n",
       "    .dataframe tbody tr th {\n",
       "        vertical-align: top;\n",
       "    }\n",
       "\n",
       "    .dataframe thead th {\n",
       "        text-align: right;\n",
       "    }\n",
       "</style>\n",
       "<table border=\"1\" class=\"dataframe\">\n",
       "  <thead>\n",
       "    <tr style=\"text-align: right;\">\n",
       "      <th></th>\n",
       "      <th>ID_ESTADO</th>\n",
       "      <th>NOMBRE_ESTADO</th>\n",
       "      <th>ID_DISTRITO_LOCAL</th>\n",
       "      <th>CABECERA_DISTRITAL_LOCAL</th>\n",
       "      <th>ID_MUNICIPIO_LOCAL</th>\n",
       "      <th>MUNICIPIO_LOCAL</th>\n",
       "      <th>SECCION</th>\n",
       "      <th>TIPO_CASILLA</th>\n",
       "      <th>PAN</th>\n",
       "      <th>PRI</th>\n",
       "      <th>...</th>\n",
       "      <th>C_PAN_PRI</th>\n",
       "      <th>C_PAN_PRD</th>\n",
       "      <th>C_PAN_PAS</th>\n",
       "      <th>C_PRI_PRD</th>\n",
       "      <th>C_PRI_PAS</th>\n",
       "      <th>C_PRD_PAS</th>\n",
       "      <th>CC_PVEM_MORENA</th>\n",
       "      <th>NUM_VOTOS_CAN_NREG</th>\n",
       "      <th>NUM_VOTOS_NULOS</th>\n",
       "      <th>TOTAL_VOTOS</th>\n",
       "    </tr>\n",
       "  </thead>\n",
       "  <tbody>\n",
       "  </tbody>\n",
       "</table>\n",
       "<p>0 rows × 35 columns</p>\n",
       "</div>"
      ],
      "text/plain": [
       "Empty DataFrame\n",
       "Columns: [ID_ESTADO, NOMBRE_ESTADO, ID_DISTRITO_LOCAL, CABECERA_DISTRITAL_LOCAL, ID_MUNICIPIO_LOCAL, MUNICIPIO_LOCAL, SECCION, TIPO_CASILLA, PAN, PRI, PRD, PT, PVEM, MC, PAS, MORENA, PES, MAG, JSLS, VMSA, C_PAN_PRI_PRD_PAS, C_PAN_PRI_PRD, C_PAN_PRI_PAS, C_PAN_PRD_PAS, C_PRI_PRD_PAS, C_PAN_PRI, C_PAN_PRD, C_PAN_PAS, C_PRI_PRD, C_PRI_PAS, C_PRD_PAS, CC_PVEM_MORENA, NUM_VOTOS_CAN_NREG, NUM_VOTOS_NULOS, TOTAL_VOTOS]\n",
       "Index: []\n",
       "\n",
       "[0 rows x 35 columns]"
      ]
     },
     "execution_count": 110,
     "metadata": {},
     "output_type": "execute_result"
    }
   ],
   "source": [
    "union[union[\"SECCION\"]==0]"
   ]
  },
  {
   "cell_type": "code",
   "execution_count": 111,
   "metadata": {},
   "outputs": [
    {
     "ename": "KeyError",
     "evalue": "'LISTA_NOMINAL'",
     "output_type": "error",
     "traceback": [
      "\u001b[0;31m---------------------------------------------------------------------------\u001b[0m",
      "\u001b[0;31mKeyError\u001b[0m                                  Traceback (most recent call last)",
      "File \u001b[0;32m~/anaconda3/lib/python3.12/site-packages/pandas/core/indexes/base.py:3805\u001b[0m, in \u001b[0;36mIndex.get_loc\u001b[0;34m(self, key)\u001b[0m\n\u001b[1;32m   3804\u001b[0m \u001b[38;5;28;01mtry\u001b[39;00m:\n\u001b[0;32m-> 3805\u001b[0m     \u001b[38;5;28;01mreturn\u001b[39;00m \u001b[38;5;28mself\u001b[39m\u001b[38;5;241m.\u001b[39m_engine\u001b[38;5;241m.\u001b[39mget_loc(casted_key)\n\u001b[1;32m   3806\u001b[0m \u001b[38;5;28;01mexcept\u001b[39;00m \u001b[38;5;167;01mKeyError\u001b[39;00m \u001b[38;5;28;01mas\u001b[39;00m err:\n",
      "File \u001b[0;32mindex.pyx:167\u001b[0m, in \u001b[0;36mpandas._libs.index.IndexEngine.get_loc\u001b[0;34m()\u001b[0m\n",
      "File \u001b[0;32mindex.pyx:196\u001b[0m, in \u001b[0;36mpandas._libs.index.IndexEngine.get_loc\u001b[0;34m()\u001b[0m\n",
      "File \u001b[0;32mpandas/_libs/hashtable_class_helper.pxi:7081\u001b[0m, in \u001b[0;36mpandas._libs.hashtable.PyObjectHashTable.get_item\u001b[0;34m()\u001b[0m\n",
      "File \u001b[0;32mpandas/_libs/hashtable_class_helper.pxi:7089\u001b[0m, in \u001b[0;36mpandas._libs.hashtable.PyObjectHashTable.get_item\u001b[0;34m()\u001b[0m\n",
      "\u001b[0;31mKeyError\u001b[0m: 'LISTA_NOMINAL'",
      "\nThe above exception was the direct cause of the following exception:\n",
      "\u001b[0;31mKeyError\u001b[0m                                  Traceback (most recent call last)",
      "Cell \u001b[0;32mIn[111], line 1\u001b[0m\n\u001b[0;32m----> 1\u001b[0m union[(union[\u001b[38;5;124m'\u001b[39m\u001b[38;5;124mID_MUNICIPIO_LOCAL\u001b[39m\u001b[38;5;124m'\u001b[39m]\u001b[38;5;241m==\u001b[39m\u001b[38;5;241m1\u001b[39m)\u001b[38;5;241m&\u001b[39m(union[\u001b[38;5;124m'\u001b[39m\u001b[38;5;124mSECCION\u001b[39m\u001b[38;5;124m'\u001b[39m]\u001b[38;5;241m>\u001b[39m\u001b[38;5;241m0\u001b[39m)][\u001b[38;5;124m'\u001b[39m\u001b[38;5;124mLISTA_NOMINAL\u001b[39m\u001b[38;5;124m'\u001b[39m]\u001b[38;5;241m.\u001b[39msum()\n",
      "File \u001b[0;32m~/anaconda3/lib/python3.12/site-packages/pandas/core/frame.py:4102\u001b[0m, in \u001b[0;36mDataFrame.__getitem__\u001b[0;34m(self, key)\u001b[0m\n\u001b[1;32m   4100\u001b[0m \u001b[38;5;28;01mif\u001b[39;00m \u001b[38;5;28mself\u001b[39m\u001b[38;5;241m.\u001b[39mcolumns\u001b[38;5;241m.\u001b[39mnlevels \u001b[38;5;241m>\u001b[39m \u001b[38;5;241m1\u001b[39m:\n\u001b[1;32m   4101\u001b[0m     \u001b[38;5;28;01mreturn\u001b[39;00m \u001b[38;5;28mself\u001b[39m\u001b[38;5;241m.\u001b[39m_getitem_multilevel(key)\n\u001b[0;32m-> 4102\u001b[0m indexer \u001b[38;5;241m=\u001b[39m \u001b[38;5;28mself\u001b[39m\u001b[38;5;241m.\u001b[39mcolumns\u001b[38;5;241m.\u001b[39mget_loc(key)\n\u001b[1;32m   4103\u001b[0m \u001b[38;5;28;01mif\u001b[39;00m is_integer(indexer):\n\u001b[1;32m   4104\u001b[0m     indexer \u001b[38;5;241m=\u001b[39m [indexer]\n",
      "File \u001b[0;32m~/anaconda3/lib/python3.12/site-packages/pandas/core/indexes/base.py:3812\u001b[0m, in \u001b[0;36mIndex.get_loc\u001b[0;34m(self, key)\u001b[0m\n\u001b[1;32m   3807\u001b[0m     \u001b[38;5;28;01mif\u001b[39;00m \u001b[38;5;28misinstance\u001b[39m(casted_key, \u001b[38;5;28mslice\u001b[39m) \u001b[38;5;129;01mor\u001b[39;00m (\n\u001b[1;32m   3808\u001b[0m         \u001b[38;5;28misinstance\u001b[39m(casted_key, abc\u001b[38;5;241m.\u001b[39mIterable)\n\u001b[1;32m   3809\u001b[0m         \u001b[38;5;129;01mand\u001b[39;00m \u001b[38;5;28many\u001b[39m(\u001b[38;5;28misinstance\u001b[39m(x, \u001b[38;5;28mslice\u001b[39m) \u001b[38;5;28;01mfor\u001b[39;00m x \u001b[38;5;129;01min\u001b[39;00m casted_key)\n\u001b[1;32m   3810\u001b[0m     ):\n\u001b[1;32m   3811\u001b[0m         \u001b[38;5;28;01mraise\u001b[39;00m InvalidIndexError(key)\n\u001b[0;32m-> 3812\u001b[0m     \u001b[38;5;28;01mraise\u001b[39;00m \u001b[38;5;167;01mKeyError\u001b[39;00m(key) \u001b[38;5;28;01mfrom\u001b[39;00m \u001b[38;5;21;01merr\u001b[39;00m\n\u001b[1;32m   3813\u001b[0m \u001b[38;5;28;01mexcept\u001b[39;00m \u001b[38;5;167;01mTypeError\u001b[39;00m:\n\u001b[1;32m   3814\u001b[0m     \u001b[38;5;66;03m# If we have a listlike key, _check_indexing_error will raise\u001b[39;00m\n\u001b[1;32m   3815\u001b[0m     \u001b[38;5;66;03m#  InvalidIndexError. Otherwise we fall through and re-raise\u001b[39;00m\n\u001b[1;32m   3816\u001b[0m     \u001b[38;5;66;03m#  the TypeError.\u001b[39;00m\n\u001b[1;32m   3817\u001b[0m     \u001b[38;5;28mself\u001b[39m\u001b[38;5;241m.\u001b[39m_check_indexing_error(key)\n",
      "\u001b[0;31mKeyError\u001b[0m: 'LISTA_NOMINAL'"
     ]
    }
   ],
   "source": [
    "union[(union['ID_MUNICIPIO_LOCAL']==1)&(union['SECCION']>0)]['LISTA_NOMINAL'].sum()"
   ]
  },
  {
   "cell_type": "code",
   "execution_count": 112,
   "metadata": {},
   "outputs": [
    {
     "data": {
      "text/plain": [
       "350652"
      ]
     },
     "execution_count": 112,
     "metadata": {},
     "output_type": "execute_result"
    }
   ],
   "source": [
    "lis_nominal_1[(lis_nominal_1['ID_MUNICIPIO_LOCAL']==1)&(lis_nominal_1['SECCION']>0)]['LISTA_NOMINAL'].sum()"
   ]
  },
  {
   "cell_type": "code",
   "execution_count": null,
   "metadata": {},
   "outputs": [],
   "source": []
  },
  {
   "cell_type": "code",
   "execution_count": 76,
   "metadata": {},
   "outputs": [
    {
     "data": {
      "text/html": [
       "<div>\n",
       "<style scoped>\n",
       "    .dataframe tbody tr th:only-of-type {\n",
       "        vertical-align: middle;\n",
       "    }\n",
       "\n",
       "    .dataframe tbody tr th {\n",
       "        vertical-align: top;\n",
       "    }\n",
       "\n",
       "    .dataframe thead th {\n",
       "        text-align: right;\n",
       "    }\n",
       "</style>\n",
       "<table border=\"1\" class=\"dataframe\">\n",
       "  <thead>\n",
       "    <tr style=\"text-align: right;\">\n",
       "      <th></th>\n",
       "      <th>ID_ESTADO</th>\n",
       "      <th>NOMBRE_ESTADO</th>\n",
       "      <th>ID_DISTRITO_LOCAL</th>\n",
       "      <th>CABECERA_DISTRITAL_LOCAL</th>\n",
       "      <th>ID_MUNICIPIO_LOCAL</th>\n",
       "      <th>MUNICIPIO_LOCAL</th>\n",
       "      <th>SECCION</th>\n",
       "      <th>TIPO_CASILLA</th>\n",
       "      <th>PAN</th>\n",
       "      <th>PRI</th>\n",
       "      <th>...</th>\n",
       "      <th>C_PAN_PRD</th>\n",
       "      <th>C_PAN_PAS</th>\n",
       "      <th>C_PRI_PRD</th>\n",
       "      <th>C_PRI_PAS</th>\n",
       "      <th>C_PRD_PAS</th>\n",
       "      <th>CC_PVEM_MORENA</th>\n",
       "      <th>NUM_VOTOS_CAN_NREG</th>\n",
       "      <th>NUM_VOTOS_NULOS</th>\n",
       "      <th>TOTAL_VOTOS</th>\n",
       "      <th>LISTA_NOMINAL</th>\n",
       "    </tr>\n",
       "  </thead>\n",
       "  <tbody>\n",
       "    <tr>\n",
       "      <th>0</th>\n",
       "      <td>25</td>\n",
       "      <td>SINALOA</td>\n",
       "      <td>5</td>\n",
       "      <td>LOS MOCHIS</td>\n",
       "      <td>1</td>\n",
       "      <td>AHOME</td>\n",
       "      <td>2</td>\n",
       "      <td>B</td>\n",
       "      <td>29</td>\n",
       "      <td>17</td>\n",
       "      <td>...</td>\n",
       "      <td>0</td>\n",
       "      <td>0</td>\n",
       "      <td>0</td>\n",
       "      <td>0</td>\n",
       "      <td>0</td>\n",
       "      <td>\\N</td>\n",
       "      <td>0</td>\n",
       "      <td>7</td>\n",
       "      <td>156</td>\n",
       "      <td>254</td>\n",
       "    </tr>\n",
       "    <tr>\n",
       "      <th>1</th>\n",
       "      <td>25</td>\n",
       "      <td>SINALOA</td>\n",
       "      <td>5</td>\n",
       "      <td>LOS MOCHIS</td>\n",
       "      <td>1</td>\n",
       "      <td>AHOME</td>\n",
       "      <td>3</td>\n",
       "      <td>B</td>\n",
       "      <td>120</td>\n",
       "      <td>92</td>\n",
       "      <td>...</td>\n",
       "      <td>0</td>\n",
       "      <td>0</td>\n",
       "      <td>0</td>\n",
       "      <td>0</td>\n",
       "      <td>0</td>\n",
       "      <td>\\N</td>\n",
       "      <td>0</td>\n",
       "      <td>6</td>\n",
       "      <td>447</td>\n",
       "      <td>657</td>\n",
       "    </tr>\n",
       "    <tr>\n",
       "      <th>2</th>\n",
       "      <td>25</td>\n",
       "      <td>SINALOA</td>\n",
       "      <td>5</td>\n",
       "      <td>LOS MOCHIS</td>\n",
       "      <td>1</td>\n",
       "      <td>AHOME</td>\n",
       "      <td>4</td>\n",
       "      <td>B</td>\n",
       "      <td>40</td>\n",
       "      <td>46</td>\n",
       "      <td>...</td>\n",
       "      <td>0</td>\n",
       "      <td>0</td>\n",
       "      <td>0</td>\n",
       "      <td>1</td>\n",
       "      <td>0</td>\n",
       "      <td>\\N</td>\n",
       "      <td>0</td>\n",
       "      <td>14</td>\n",
       "      <td>259</td>\n",
       "      <td>355</td>\n",
       "    </tr>\n",
       "    <tr>\n",
       "      <th>3</th>\n",
       "      <td>25</td>\n",
       "      <td>SINALOA</td>\n",
       "      <td>5</td>\n",
       "      <td>LOS MOCHIS</td>\n",
       "      <td>1</td>\n",
       "      <td>AHOME</td>\n",
       "      <td>5</td>\n",
       "      <td>B</td>\n",
       "      <td>29</td>\n",
       "      <td>41</td>\n",
       "      <td>...</td>\n",
       "      <td>1</td>\n",
       "      <td>0</td>\n",
       "      <td>0</td>\n",
       "      <td>0</td>\n",
       "      <td>0</td>\n",
       "      <td>\\N</td>\n",
       "      <td>0</td>\n",
       "      <td>21</td>\n",
       "      <td>263</td>\n",
       "      <td>432</td>\n",
       "    </tr>\n",
       "    <tr>\n",
       "      <th>4</th>\n",
       "      <td>25</td>\n",
       "      <td>SINALOA</td>\n",
       "      <td>5</td>\n",
       "      <td>LOS MOCHIS</td>\n",
       "      <td>1</td>\n",
       "      <td>AHOME</td>\n",
       "      <td>6</td>\n",
       "      <td>B</td>\n",
       "      <td>17</td>\n",
       "      <td>13</td>\n",
       "      <td>...</td>\n",
       "      <td>0</td>\n",
       "      <td>1</td>\n",
       "      <td>0</td>\n",
       "      <td>0</td>\n",
       "      <td>0</td>\n",
       "      <td>\\N</td>\n",
       "      <td>0</td>\n",
       "      <td>10</td>\n",
       "      <td>148</td>\n",
       "      <td>241</td>\n",
       "    </tr>\n",
       "    <tr>\n",
       "      <th>...</th>\n",
       "      <td>...</td>\n",
       "      <td>...</td>\n",
       "      <td>...</td>\n",
       "      <td>...</td>\n",
       "      <td>...</td>\n",
       "      <td>...</td>\n",
       "      <td>...</td>\n",
       "      <td>...</td>\n",
       "      <td>...</td>\n",
       "      <td>...</td>\n",
       "      <td>...</td>\n",
       "      <td>...</td>\n",
       "      <td>...</td>\n",
       "      <td>...</td>\n",
       "      <td>...</td>\n",
       "      <td>...</td>\n",
       "      <td>...</td>\n",
       "      <td>...</td>\n",
       "      <td>...</td>\n",
       "      <td>...</td>\n",
       "      <td>...</td>\n",
       "    </tr>\n",
       "    <tr>\n",
       "      <th>5089</th>\n",
       "      <td>25</td>\n",
       "      <td>SINALOA</td>\n",
       "      <td>6</td>\n",
       "      <td>MOCORITO</td>\n",
       "      <td>17</td>\n",
       "      <td>SINALOA</td>\n",
       "      <td>3609</td>\n",
       "      <td>B</td>\n",
       "      <td>10</td>\n",
       "      <td>22</td>\n",
       "      <td>...</td>\n",
       "      <td>\\N</td>\n",
       "      <td>\\N</td>\n",
       "      <td>\\N</td>\n",
       "      <td>\\N</td>\n",
       "      <td>\\N</td>\n",
       "      <td>\\N</td>\n",
       "      <td>0</td>\n",
       "      <td>21</td>\n",
       "      <td>224</td>\n",
       "      <td>385</td>\n",
       "    </tr>\n",
       "    <tr>\n",
       "      <th>5090</th>\n",
       "      <td>25</td>\n",
       "      <td>SINALOA</td>\n",
       "      <td>6</td>\n",
       "      <td>MOCORITO</td>\n",
       "      <td>17</td>\n",
       "      <td>SINALOA</td>\n",
       "      <td>3610</td>\n",
       "      <td>B</td>\n",
       "      <td>9</td>\n",
       "      <td>20</td>\n",
       "      <td>...</td>\n",
       "      <td>\\N</td>\n",
       "      <td>\\N</td>\n",
       "      <td>\\N</td>\n",
       "      <td>\\N</td>\n",
       "      <td>\\N</td>\n",
       "      <td>\\N</td>\n",
       "      <td>0</td>\n",
       "      <td>23</td>\n",
       "      <td>333</td>\n",
       "      <td>613</td>\n",
       "    </tr>\n",
       "    <tr>\n",
       "      <th>5091</th>\n",
       "      <td>25</td>\n",
       "      <td>SINALOA</td>\n",
       "      <td>6</td>\n",
       "      <td>MOCORITO</td>\n",
       "      <td>17</td>\n",
       "      <td>SINALOA</td>\n",
       "      <td>3611</td>\n",
       "      <td>B</td>\n",
       "      <td>15</td>\n",
       "      <td>27</td>\n",
       "      <td>...</td>\n",
       "      <td>\\N</td>\n",
       "      <td>\\N</td>\n",
       "      <td>\\N</td>\n",
       "      <td>\\N</td>\n",
       "      <td>\\N</td>\n",
       "      <td>\\N</td>\n",
       "      <td>0</td>\n",
       "      <td>26</td>\n",
       "      <td>263</td>\n",
       "      <td>420</td>\n",
       "    </tr>\n",
       "    <tr>\n",
       "      <th>5092</th>\n",
       "      <td>25</td>\n",
       "      <td>SINALOA</td>\n",
       "      <td>6</td>\n",
       "      <td>MOCORITO</td>\n",
       "      <td>17</td>\n",
       "      <td>SINALOA</td>\n",
       "      <td>3612</td>\n",
       "      <td>B</td>\n",
       "      <td>2</td>\n",
       "      <td>18</td>\n",
       "      <td>...</td>\n",
       "      <td>\\N</td>\n",
       "      <td>\\N</td>\n",
       "      <td>\\N</td>\n",
       "      <td>\\N</td>\n",
       "      <td>\\N</td>\n",
       "      <td>\\N</td>\n",
       "      <td>0</td>\n",
       "      <td>14</td>\n",
       "      <td>150</td>\n",
       "      <td>237</td>\n",
       "    </tr>\n",
       "    <tr>\n",
       "      <th>5093</th>\n",
       "      <td>25</td>\n",
       "      <td>SINALOA</td>\n",
       "      <td>6</td>\n",
       "      <td>MOCORITO</td>\n",
       "      <td>17</td>\n",
       "      <td>SINALOA</td>\n",
       "      <td>3613</td>\n",
       "      <td>B</td>\n",
       "      <td>6</td>\n",
       "      <td>15</td>\n",
       "      <td>...</td>\n",
       "      <td>\\N</td>\n",
       "      <td>\\N</td>\n",
       "      <td>\\N</td>\n",
       "      <td>\\N</td>\n",
       "      <td>\\N</td>\n",
       "      <td>\\N</td>\n",
       "      <td>0</td>\n",
       "      <td>23</td>\n",
       "      <td>316</td>\n",
       "      <td>579</td>\n",
       "    </tr>\n",
       "  </tbody>\n",
       "</table>\n",
       "<p>5094 rows × 36 columns</p>\n",
       "</div>"
      ],
      "text/plain": [
       "      ID_ESTADO NOMBRE_ESTADO  ID_DISTRITO_LOCAL CABECERA_DISTRITAL_LOCAL  \\\n",
       "0            25       SINALOA                  5               LOS MOCHIS   \n",
       "1            25       SINALOA                  5               LOS MOCHIS   \n",
       "2            25       SINALOA                  5               LOS MOCHIS   \n",
       "3            25       SINALOA                  5               LOS MOCHIS   \n",
       "4            25       SINALOA                  5               LOS MOCHIS   \n",
       "...         ...           ...                ...                      ...   \n",
       "5089         25       SINALOA                  6                 MOCORITO   \n",
       "5090         25       SINALOA                  6                 MOCORITO   \n",
       "5091         25       SINALOA                  6                 MOCORITO   \n",
       "5092         25       SINALOA                  6                 MOCORITO   \n",
       "5093         25       SINALOA                  6                 MOCORITO   \n",
       "\n",
       "      ID_MUNICIPIO_LOCAL MUNICIPIO_LOCAL  SECCION TIPO_CASILLA  PAN PRI  ...  \\\n",
       "0                      1           AHOME        2            B   29  17  ...   \n",
       "1                      1           AHOME        3            B  120  92  ...   \n",
       "2                      1           AHOME        4            B   40  46  ...   \n",
       "3                      1           AHOME        5            B   29  41  ...   \n",
       "4                      1           AHOME        6            B   17  13  ...   \n",
       "...                  ...             ...      ...          ...  ...  ..  ...   \n",
       "5089                  17         SINALOA     3609            B   10  22  ...   \n",
       "5090                  17         SINALOA     3610            B    9  20  ...   \n",
       "5091                  17         SINALOA     3611            B   15  27  ...   \n",
       "5092                  17         SINALOA     3612            B    2  18  ...   \n",
       "5093                  17         SINALOA     3613            B    6  15  ...   \n",
       "\n",
       "     C_PAN_PRD C_PAN_PAS C_PRI_PRD C_PRI_PAS C_PRD_PAS CC_PVEM_MORENA  \\\n",
       "0            0         0         0         0         0             \\N   \n",
       "1            0         0         0         0         0             \\N   \n",
       "2            0         0         0         1         0             \\N   \n",
       "3            1         0         0         0         0             \\N   \n",
       "4            0         1         0         0         0             \\N   \n",
       "...        ...       ...       ...       ...       ...            ...   \n",
       "5089        \\N        \\N        \\N        \\N        \\N             \\N   \n",
       "5090        \\N        \\N        \\N        \\N        \\N             \\N   \n",
       "5091        \\N        \\N        \\N        \\N        \\N             \\N   \n",
       "5092        \\N        \\N        \\N        \\N        \\N             \\N   \n",
       "5093        \\N        \\N        \\N        \\N        \\N             \\N   \n",
       "\n",
       "     NUM_VOTOS_CAN_NREG NUM_VOTOS_NULOS TOTAL_VOTOS LISTA_NOMINAL  \n",
       "0                     0               7         156           254  \n",
       "1                     0               6         447           657  \n",
       "2                     0              14         259           355  \n",
       "3                     0              21         263           432  \n",
       "4                     0              10         148           241  \n",
       "...                 ...             ...         ...           ...  \n",
       "5089                  0              21         224           385  \n",
       "5090                  0              23         333           613  \n",
       "5091                  0              26         263           420  \n",
       "5092                  0              14         150           237  \n",
       "5093                  0              23         316           579  \n",
       "\n",
       "[5094 rows x 36 columns]"
      ]
     },
     "execution_count": 76,
     "metadata": {},
     "output_type": "execute_result"
    }
   ],
   "source": [
    "df11T=union\n",
    "df11T"
   ]
  },
  {
   "cell_type": "code",
   "execution_count": 77,
   "metadata": {},
   "outputs": [],
   "source": [
    "#df11T = df11T.dropna(subset=[\"MUNICIPIO_LOCAL_x\"])\n",
    "#df11T"
   ]
  },
  {
   "cell_type": "code",
   "execution_count": 78,
   "metadata": {},
   "outputs": [
    {
     "data": {
      "text/plain": [
       "863666"
      ]
     },
     "execution_count": 78,
     "metadata": {},
     "output_type": "execute_result"
    }
   ],
   "source": [
    "df11T[(df11T['ID_MUNICIPIO_LOCAL']==1)&(df11T['SECCION']>0)]['LISTA_NOMINAL'].sum()"
   ]
  },
  {
   "cell_type": "code",
   "execution_count": null,
   "metadata": {},
   "outputs": [],
   "source": []
  },
  {
   "cell_type": "code",
   "execution_count": 47,
   "metadata": {},
   "outputs": [
    {
     "ename": "NameError",
     "evalue": "name 'wrrthsrt' is not defined",
     "output_type": "error",
     "traceback": [
      "\u001b[0;31m---------------------------------------------------------------------------\u001b[0m",
      "\u001b[0;31mNameError\u001b[0m                                 Traceback (most recent call last)",
      "Cell \u001b[0;32mIn[47], line 1\u001b[0m\n\u001b[0;32m----> 1\u001b[0m wrrthsrt\n",
      "\u001b[0;31mNameError\u001b[0m: name 'wrrthsrt' is not defined"
     ]
    }
   ],
   "source": [
    "wrrthsrt"
   ]
  },
  {
   "cell_type": "code",
   "execution_count": 38,
   "metadata": {},
   "outputs": [],
   "source": [
    "df11T= df11T.drop(['ID_ESTADO_y', 'NOMBRE_ESTADO_y', 'MUNICIPIO_LOCAL_y'], axis=1)"
   ]
  },
  {
   "cell_type": "code",
   "execution_count": null,
   "metadata": {},
   "outputs": [],
   "source": [
    "df11T.columns"
   ]
  },
  {
   "cell_type": "code",
   "execution_count": 40,
   "metadata": {},
   "outputs": [],
   "source": [
    "\n",
    "df11T=df11T.rename(columns={'ID_ESTADO_x':'ID_ESTADO', \n",
    "                            'NOMBRE_ESTADO_x': 'NOMBRE_ESTADO',\n",
    "                            'MUNICIPIO_LOCAL_x': \"MUNICIPIO_LOCAL\"\n",
    "\n",
    "})"
   ]
  },
  {
   "cell_type": "code",
   "execution_count": null,
   "metadata": {},
   "outputs": [],
   "source": [
    "df11T.columns"
   ]
  },
  {
   "cell_type": "code",
   "execution_count": null,
   "metadata": {},
   "outputs": [],
   "source": [
    "parar"
   ]
  },
  {
   "cell_type": "markdown",
   "metadata": {},
   "source": [
    "# Regresando al programa"
   ]
  },
  {
   "cell_type": "code",
   "execution_count": null,
   "metadata": {},
   "outputs": [],
   "source": []
  },
  {
   "cell_type": "code",
   "execution_count": null,
   "metadata": {},
   "outputs": [],
   "source": []
  },
  {
   "cell_type": "code",
   "execution_count": null,
   "metadata": {},
   "outputs": [],
   "source": []
  },
  {
   "cell_type": "code",
   "execution_count": null,
   "metadata": {},
   "outputs": [],
   "source": []
  },
  {
   "cell_type": "code",
   "execution_count": 48,
   "metadata": {},
   "outputs": [],
   "source": [
    "Lista_nominal=['LISTA_NOMINAL']"
   ]
  },
  {
   "cell_type": "markdown",
   "metadata": {},
   "source": [
    "el total de votos no es indispensable pero se agrega solo por si acaso"
   ]
  },
  {
   "cell_type": "code",
   "execution_count": 49,
   "metadata": {},
   "outputs": [],
   "source": [
    "\n",
    "Total_votos=[] # no es indipensable\n"
   ]
  },
  {
   "cell_type": "code",
   "execution_count": null,
   "metadata": {},
   "outputs": [],
   "source": [
    "df11T.columns"
   ]
  },
  {
   "cell_type": "code",
   "execution_count": 51,
   "metadata": {},
   "outputs": [],
   "source": [
    "datos_entidad=mod_1.IDS_1(IDs,IDs_entidad,IDs_seccion,IDs_municipio,IDs_distrito_l,IDs_distrito_f)\n",
    "nombresst1_2=mod_1.Nombres_1_X2_1(Nombres_1_X2,Nombre_municipio,Nombre_entidad,Nombre_Cabecera_distrito_local,Nombre_Cabecera_distrito_federal)\n",
    "datoseleccion_1_2=mod_1.datoseleccion_1_2_1(Total_votos,Lista_nominal)\n",
    "sinCoa1X_2=mod_1.sinCoa1X_2_1(NUM_VOTOS_CAN_NREG,NUM_VOTOS_NULOS)\n",
    "Tatal_15,datos_enteros=mod_1.rename_1(df11T,datoseleccion_1_2,datos_entidad,nombresst1_2,sinCoa1X_2,Partidos,coaliciones_RT,candidatos_indepentiens)"
   ]
  },
  {
   "cell_type": "code",
   "execution_count": null,
   "metadata": {},
   "outputs": [],
   "source": [
    "nombresst1_2\n"
   ]
  },
  {
   "cell_type": "markdown",
   "metadata": {},
   "source": [
    "# aqui se hace limpieza de los datos "
   ]
  },
  {
   "cell_type": "code",
   "execution_count": null,
   "metadata": {},
   "outputs": [],
   "source": [
    "df11T[datos_enteros].dtypes"
   ]
  },
  {
   "cell_type": "code",
   "execution_count": null,
   "metadata": {},
   "outputs": [],
   "source": []
  },
  {
   "cell_type": "code",
   "execution_count": 54,
   "metadata": {},
   "outputs": [],
   "source": [
    "df11T=df11T.replace('Sin dato',0)\n",
    "df11T=df11T.replace('Ilegible',0)\n",
    "df11T=df11T.replace( '-',nan)"
   ]
  },
  {
   "cell_type": "code",
   "execution_count": 55,
   "metadata": {},
   "outputs": [],
   "source": [
    "df11T=df11T.replace('Sin dato',0)\n",
    "df11T=df11T.replace('ILEGIBLE ',0)\n",
    "df11T=df11T.replace('ILEGIBLE',0)\n",
    "df11T=df11T.replace('SIN DATO',0)\n",
    "df11T=df11T.replace('Ilegible',0)\n",
    "df11T=df11T.replace('SIN ACTA',0)"
   ]
  },
  {
   "cell_type": "code",
   "execution_count": 56,
   "metadata": {},
   "outputs": [],
   "source": [
    "df11T=df11T.replace('=',\"\", regex=True)\n",
    "df11T=df11T.replace('\"',\"\", regex=True)"
   ]
  },
  {
   "cell_type": "code",
   "execution_count": 57,
   "metadata": {},
   "outputs": [],
   "source": [
    "df11T=df11T.replace('\\\\N', 0)"
   ]
  },
  {
   "cell_type": "code",
   "execution_count": null,
   "metadata": {},
   "outputs": [],
   "source": [
    "df11T"
   ]
  },
  {
   "cell_type": "markdown",
   "metadata": {},
   "source": [
    "la lista datos_enteros deben ser enteroes"
   ]
  },
  {
   "cell_type": "code",
   "execution_count": 59,
   "metadata": {},
   "outputs": [],
   "source": [
    "df11T[datos_enteros]=df11T[datos_enteros].fillna(0)\n",
    "df11T[datos_enteros]=df11T[datos_enteros].astype('int')"
   ]
  },
  {
   "cell_type": "code",
   "execution_count": 60,
   "metadata": {},
   "outputs": [],
   "source": [
    "ABC_grup=(list(pd.concat([datos_entidad[0],nombresst1_2[0]]).reset_index(drop=True)))\n",
    "ABC_grup_2=pd.concat([pd.Series(Partidos, dtype='object'),pd.Series(coaliciones_RT, dtype='object'),pd.Series(candidatos_indepentiens, dtype='object'),sinCoa1X_2[0],datoseleccion_1_2[1]]).reset_index(drop=True)"
   ]
  },
  {
   "cell_type": "code",
   "execution_count": null,
   "metadata": {},
   "outputs": [],
   "source": [
    "df11T[datos_enteros].dtypes"
   ]
  },
  {
   "cell_type": "code",
   "execution_count": 62,
   "metadata": {},
   "outputs": [],
   "source": [
    "#------------##------------##------------##------------##------------##------------##------------##------------##------------##------------##------------##------------##------------##------------##------------##------------##------------##------------##------------#\n",
    "#procesamiento_1 genrera dos Series una con informacion de los nombres de los partidos y otra con informacion de partidos coaliciones y candidatos independientes ade mas agrupa la informacion por seccion electoral y la suma\n",
    "        #ABC_grup es la informacion espacial de la elecciones(entidad seccion municipio nombre cabezera etc...)\n",
    "                # siguiendo nuestra guia se puede generar con ABC_grup=(list(pd.concat([datos_entidad[0],nombresst1_2[0]]).reset_index(drop=True)))\n",
    "        #ABC_grup_2 son todos los datos que numericos que se van a sumar Partidos coaliciones candidatos_indepentiens  inCoa1X_2  datoseleccion_1_2\n",
    "                # siguiendo nuestra gria se puede generar  ABC_grup_2=pd.concat([pd.Series(Partidos, dtype='object'),pd.Series(coaliciones_RT, dtype='object'),pd.Series(candidatos_indepentiens, dtype='object'),sinCoa1X_2[0],datoseleccion_1_2[1]]).reset_index(drop=True)\n",
    "def procesamiento_1(df11T,ABC_grup,ABC_grup_2,Partidos,coaliciones_RT,candidatos_indepentiens):\n",
    "    df11T=df11T.groupby(ABC_grup,dropna=False)[ABC_grup_2].sum().reset_index()\n",
    "    participantes_1_1= pd.Series(Partidos) \n",
    "    participantes_2_0_1= pd.concat([pd.Series(Partidos, dtype='object'),pd.Series(coaliciones_RT, dtype='object'),pd.Series(candidatos_indepentiens, dtype='object')]).reset_index(drop=True)\n",
    "    return df11T,participantes_1_1,participantes_2_0_1\n",
    "#------------##------------##------------##------------##------------##------------##------------##------------##------------##------------##------------##------------##------------##------------##------------##------------##------------##------------##------------#"
   ]
  },
  {
   "cell_type": "code",
   "execution_count": null,
   "metadata": {},
   "outputs": [],
   "source": [
    "df11T[datos_enteros].dtypes"
   ]
  },
  {
   "cell_type": "code",
   "execution_count": null,
   "metadata": {},
   "outputs": [],
   "source": []
  },
  {
   "cell_type": "code",
   "execution_count": null,
   "metadata": {},
   "outputs": [],
   "source": []
  },
  {
   "cell_type": "code",
   "execution_count": 64,
   "metadata": {},
   "outputs": [],
   "source": [
    "df11T,participantes_1_1,participantes_2_0_1=mod_1.procesamiento_1(df11T,ABC_grup,ABC_grup_2,Partidos,coaliciones_RT,candidatos_indepentiens)"
   ]
  },
  {
   "cell_type": "code",
   "execution_count": null,
   "metadata": {},
   "outputs": [],
   "source": []
  },
  {
   "cell_type": "code",
   "execution_count": 65,
   "metadata": {},
   "outputs": [],
   "source": [
    "tryu_XY,tryu_XY_2=mod_1.procesamiento_2(participantes_1_1,participantes_2_0_1)"
   ]
  },
  {
   "cell_type": "code",
   "execution_count": 66,
   "metadata": {},
   "outputs": [],
   "source": [
    "participantes_2,participantes_2_XZ=mod_1.procesamiento_2_2(df11T,tryu_XY_2)"
   ]
  },
  {
   "cell_type": "code",
   "execution_count": 67,
   "metadata": {},
   "outputs": [],
   "source": [
    "df11T,df11Ti_df22T,list3345=mod_1.procesamiento_2_2_3(df11T,tipo_eleccion,participantes_2)  "
   ]
  },
  {
   "cell_type": "code",
   "execution_count": null,
   "metadata": {},
   "outputs": [],
   "source": [
    "df11Ti_df22T"
   ]
  },
  {
   "cell_type": "code",
   "execution_count": 69,
   "metadata": {},
   "outputs": [],
   "source": [
    "df11Ti_df22T=df11Ti_df22T.replace(nan,0).sort_values(\"municipio\",ascending=True)"
   ]
  },
  {
   "cell_type": "markdown",
   "metadata": {},
   "source": [
    "Esta es la base que nos servira de guia para saber si estan bien las coalicioes si no se tiene esa base se utiliza  df11Ti_df22T pero se debe verificar que sean las coaliciones"
   ]
  },
  {
   "cell_type": "code",
   "execution_count": 70,
   "metadata": {},
   "outputs": [],
   "source": [
    "#Ruta_candidaturas=\"/Users/ds/Documents/DL_Ayuntamientos/resultados_computos_2024/RESULTADOS COMPUTOS AYUNTAMIENTO.xlsx\""
   ]
  },
  {
   "cell_type": "code",
   "execution_count": 71,
   "metadata": {},
   "outputs": [],
   "source": [
    "#dfPPTX_X =pd.read_excel(Ruta_candidaturas,header=5) # base de datos eleccion solo si se tiene los candidatos que participaron"
   ]
  },
  {
   "cell_type": "code",
   "execution_count": 72,
   "metadata": {},
   "outputs": [],
   "source": [
    "dfPPTX_X=df11Ti_df22T"
   ]
  },
  {
   "cell_type": "code",
   "execution_count": null,
   "metadata": {},
   "outputs": [],
   "source": [
    "dfPPTX_X.columns"
   ]
  },
  {
   "cell_type": "code",
   "execution_count": null,
   "metadata": {},
   "outputs": [],
   "source": [
    "dfPPTX_X=dfPPTX_X[['municipio', 'PAN', 'PRI', 'PRD', 'PT', 'PVEM', 'MC', 'PAS', 'MORENA',\n",
    "       'PES', 'MAG', 'JSLS', 'VMSA', 'CC_PVEM_MORENA', 'C_PAN_PRI_PRD_PAS',\n",
    "       'C_PAN_PRI_PRD', 'C_PAN_PRI_PAS', 'C_PAN_PRD_PAS', 'C_PRI_PRD_PAS',\n",
    "       'C_PAN_PRI', 'C_PAN_PRD', 'C_PAN_PAS', 'C_PRI_PRD', 'C_PRI_PAS',\n",
    "       'C_PRD_PAS']]\n",
    "dfPPTX_X"
   ]
  },
  {
   "cell_type": "markdown",
   "metadata": {},
   "source": [
    "vuelvo a cambiar el nombre las variables "
   ]
  },
  {
   "cell_type": "code",
   "execution_count": 75,
   "metadata": {},
   "outputs": [],
   "source": [
    "for n in range(0,len(candidatos_indwpwndientes_1)):\n",
    "    dfPPTX_X=dfPPTX_X.rename({candidatos_indwpwndientes_1[n]:candidatos_indwpwndientes_1_rename[n]},axis=1)"
   ]
  },
  {
   "cell_type": "code",
   "execution_count": null,
   "metadata": {},
   "outputs": [],
   "source": [
    "dfPPTX_X"
   ]
  },
  {
   "cell_type": "markdown",
   "metadata": {},
   "source": [
    "Aqui es donde se puede poner df11Ti_df22T en lugar dfPPTX_X siempre recordondo que se deben de verificar los participanestes"
   ]
  },
  {
   "cell_type": "code",
   "execution_count": 77,
   "metadata": {},
   "outputs": [],
   "source": [
    "dfPPT=dfPPTX_X.replace(nan,0).sort_values('municipio',ascending=True)\n",
    "dfPPT=dfPPT.set_index('municipio')\n",
    "tyup_l=dfPPT.columns\n",
    "dfPPT=dfPPT.reset_index()\n"
   ]
  },
  {
   "cell_type": "code",
   "execution_count": 78,
   "metadata": {},
   "outputs": [],
   "source": [
    "lpdfPPT=list(tyup_l) # tyup_l son las columnas de los participantes de las elecciones \n",
    "participantes_1_1_dfPPT= pd.DataFrame(lpdfPPT) "
   ]
  },
  {
   "cell_type": "code",
   "execution_count": 79,
   "metadata": {},
   "outputs": [],
   "source": [
    "# esta funcion ayuda a ver si las coluimnas se llaman de igual forma que la base de datos y de esta forma poder comprar \n",
    "#dfPPT   es la base de datos de los resultados por municipio o los participantes por municipio, solo necesita que sea un data frame con columnas entidad,distrito local, municipal o deferal \n",
    "        # los participantes(partidos o can ind) que no particpen en el municipio o distrito deben ir en nan o \n",
    "        # un ejemplo si en el mun 1 la coalcion C PAN PRD PRI tiene votos se pone 1 o un un numero mayor a 1 pero si en el municpìo 2 no hay C PAN PRI PRD se pone 0 \n",
    "\n",
    "#pqw \n",
    "#participantes_2_XZ\n",
    "\n",
    "\n",
    "def funayu1(dfPPT,participantes_2_XZ):\n",
    "    pqw=pd.DataFrame(dfPPT.columns)\n",
    "    dfPPT=dfPPT.replace('VMRE',0)  # remplaza el id de estado municipio o distritito de los los cotantes en el extranjero por un 0 puede cambiar'VMRE' por lo que se debe tener cuidado  \n",
    "    f='ID_DISTRITO_LOCAL'\n",
    "    for i_2 in range(0,len(pqw)):   \n",
    "        b2=pqw.loc[i_2,0]\n",
    "        if f in b2:\n",
    "            f=b2\n",
    "        c2=fuzz.token_sort_ratio(f,b2)\n",
    "        if c2>88:\n",
    "            dfPPT=dfPPT.rename({f:'ID_DISTRITO'},axis=1)\n",
    "            pqw=pd.DataFrame(dfPPT.columns)\n",
    "    f='ID_DISTRITO_FEDERAL'\n",
    "    for i_2 in range(0,len(pqw)):   \n",
    "        b2=pqw.loc[i_2,0]\n",
    "        if f in b2:\n",
    "            f=b2\n",
    "        c2=fuzz.token_sort_ratio(f,b2)\n",
    "        if c2>88:\n",
    "            dfPPT=dfPPT.rename({f:'ID_DISTRITO'},axis=1)\n",
    "            pqw=pd.DataFrame(dfPPT.columns)\n",
    "\n",
    "\n",
    "\n",
    "    if tipo_eleccion=='Diputados Federales'  :\n",
    "        datos_entidad_dfPPT=pd.DataFrame(['distrito_f'])\n",
    "        datos_entidad_dfPPT[1]=pd.Series(['ID_DISTRITO'])\n",
    "\n",
    "    if tipo_eleccion=='Diputados Locales':\n",
    "        datos_entidad_dfPPT=pd.DataFrame(['distrito_l'])\n",
    "        datos_entidad_dfPPT[1]=pd.Series(['ID_DISTRITO'])\n",
    "\n",
    "    if tipo_eleccion=='Municipal'  :\n",
    "        datos_entidad_dfPPT=pd.DataFrame(['municipio'])\n",
    "        datos_entidad_dfPPT[1]=pd.Series([ 'ID_MUNICIPIO'])\n",
    "\n",
    "\n",
    "\n",
    "    if tipo_eleccion=='Senaduria'  :\n",
    "        datos_entidad_dfPPT=pd.DataFrame(['entidad'])\n",
    "        datos_entidad_dfPPT[1]=pd.Series([ 'entidad'])\n",
    "    datos_entidad_dfPPT[2]=0\n",
    "    datos_entidad_dfPPT[2]=datos_entidad_dfPPT[2].astype('object')\n",
    "\n",
    "    #datos_entidad_dfPPT 0 son los nom,bres que queremos y 2 son los que vienen en la base 1 son lo nombres más comunes\n",
    "\n",
    "    for h in range(0,len(datos_entidad_dfPPT)):\n",
    "        a=datos_entidad_dfPPT.loc[h,1]\n",
    "        for i in range(0,len(pqw)):   \n",
    "            b=pqw.loc[i,0]\n",
    "            if a in b:\n",
    "                a=b\n",
    "            c=fuzz.token_sort_ratio(a,b)\n",
    "            if c>85:\n",
    "                datos_entidad_dfPPT.loc[h,2]=b\n",
    "    for h in range(0,len(datos_entidad_dfPPT)):\n",
    "            a=datos_entidad_dfPPT.loc[h,0]\n",
    "            for i in range(0,len(pqw)):   \n",
    "                b=pqw.loc[i,0]\n",
    "                if a in b:\n",
    "                    a=b\n",
    "                c=fuzz.ratio(a,b)\n",
    "                if c>85:\n",
    "                    datos_entidad_dfPPT.loc[h,2]=b\n",
    "\n",
    "                    \n",
    "    for n in range (0,len(datos_entidad_dfPPT)):\n",
    "        dfPPT.rename({datos_entidad_dfPPT.loc[n,2]:datos_entidad_dfPPT.loc[n,0]},axis=1,inplace=True)\n",
    "    pqw=pd.merge(participantes_1_1_dfPPT,pqw)\n",
    "    pqw=pd.merge(pqw,participantes_2_XZ[[0,1]],how='left',on=[0])\n",
    "    pwq_prueba=pqw[pqw[1].isnull()]\n",
    "    pqw[1]=pqw[0]\n",
    "    return dfPPT,pwq_prueba, pqw,datos_entidad_dfPPT"
   ]
  },
  {
   "cell_type": "code",
   "execution_count": 80,
   "metadata": {},
   "outputs": [],
   "source": [
    "dfPPT,pwq_prueba, pqw,datos_entidad_dfPPT=funayu1(dfPPT,participantes_2_XZ)"
   ]
  },
  {
   "cell_type": "markdown",
   "metadata": {},
   "source": [
    "Aqui es una prueba, donde si pwq_prueba tiene elementos esos elemetos se deben de cambiar de nombre para que coincidan con la base"
   ]
  },
  {
   "cell_type": "code",
   "execution_count": null,
   "metadata": {},
   "outputs": [],
   "source": [
    "pwq_prueba# se cambia o se busca por el nombre que debe ser"
   ]
  },
  {
   "cell_type": "code",
   "execution_count": null,
   "metadata": {},
   "outputs": [],
   "source": [
    "#pqw.loc[9,1]='PAN_PRD_MC'# se cambia o se busca por el nombre que debe ser en participantes_2_XZ[0]\n",
    "#pqw.loc[10,1]='PRI_PVEM_NA'# se cambia o se busca por el nombre que debe ser en participantes_2_XZ[0]\n",
    "#pqw.loc[11,1]='PT_MORENA_ES'# se cambia o se busca por el nombre que debe ser en participantes_2_XZ[0]\n",
    "pqw"
   ]
  },
  {
   "cell_type": "code",
   "execution_count": 83,
   "metadata": {},
   "outputs": [],
   "source": [
    "#df11Ti_df22T['C_PRI_PRD_UDC']=0\n",
    "#df11Ti_df22T['PRI']=0"
   ]
  },
  {
   "cell_type": "code",
   "execution_count": 84,
   "metadata": {},
   "outputs": [],
   "source": [
    "def funayu2(dfPPT,datos_entidad_dfPPT,pqw,df11Ti_df22T):\n",
    "\n",
    "    for n in range (0,len(pqw)):\n",
    "        dfPPT.rename({pqw.loc[n,0]:pqw.loc[n,1]},axis=1,inplace=True)\n",
    "    dfPPT[pqw[1]]=dfPPT[pqw[1]].replace(nan,0).astype('str')\n",
    "    for py in range(0,len(pqw)):\n",
    "        dfPPT[pqw[1][py]]=pd.to_numeric(dfPPT[pqw[1][py]].str.strip())\n",
    "    dfPPT_2=dfPPT[pd.concat([datos_entidad_dfPPT[0],pqw[[1]].rename({1:0},axis=1)])[0]].reset_index(drop=True) \n",
    "    dfPPT_2=dfPPT_2.sort_values(datos_entidad_dfPPT[0][0],ascending=True)\n",
    "    mun_xx=dfPPT[datos_entidad_dfPPT[0][0]].astype('int')\n",
    "    df11Ti_df22T_2=df11Ti_df22T.set_index(datos_entidad_dfPPT[0][0])\n",
    "\n",
    "\n",
    "    df11Ti_df22T_2=df11Ti_df22T_2.reset_index()\n",
    "\n",
    "    dfPPT_2=dfPPT_2.sort_values(datos_entidad_dfPPT[0][0],ascending=True).reset_index(drop=True).set_index(datos_entidad_dfPPT[0][0])\n",
    "    df11Ti_df22T_2=df11Ti_df22T_2.sort_values(datos_entidad_dfPPT[0][0],ascending=True).reset_index(drop=True).set_index(datos_entidad_dfPPT[0][0])\n",
    "\n",
    "    for x in range(0,len(mun_xx)):\n",
    "\n",
    "        for y in range(0,len(pqw[1])):\n",
    "\n",
    "            c_x=mun_xx[x]\n",
    "            c_y=pqw[1][y]\n",
    "\n",
    "            if dfPPT_2.loc[c_x,c_y]>0:\n",
    "\n",
    "                df11Ti_df22T_2.loc[c_x,c_y]=dfPPT_2.loc[c_x,c_y]\n",
    "    df11Ti_df22T_2=df11Ti_df22T_2.reset_index()\n",
    "    df11Ti_df22T_2=df11Ti_df22T_2.replace(0,nan)\n",
    "    df11Ti_df22T=df11Ti_df22T_2.copy()\n",
    "\n",
    "    return df11Ti_df22T,mun_xx,dfPPT_2"
   ]
  },
  {
   "cell_type": "code",
   "execution_count": 85,
   "metadata": {},
   "outputs": [],
   "source": [
    "df11Ti_df22T,mun_xx,dfPPT_2=funayu2(dfPPT,datos_entidad_dfPPT,pqw,df11Ti_df22T)"
   ]
  },
  {
   "cell_type": "code",
   "execution_count": null,
   "metadata": {},
   "outputs": [],
   "source": [
    "df11Ti_df22T"
   ]
  },
  {
   "cell_type": "code",
   "execution_count": 87,
   "metadata": {},
   "outputs": [],
   "source": [
    "\n",
    "\n",
    "#def funayu3(dfPPT_2,df11Ti_df22T,mun_xx,datos_entidad_dfPPT):\n",
    "if 1<2:\n",
    "\n",
    "    if 'fallas1' in locals():\n",
    "        del(fallas1)\n",
    "\n",
    "    for yw in range(0,len(mun_xx)):\n",
    "        dfPPT_2=dfPPT_2.reset_index()\n",
    "\n",
    "        adf=pd.DataFrame(dfPPT_2[dfPPT_2[datos_entidad_dfPPT[0][0]]==mun_xx[yw]].replace(0,nan).dropna(axis=1).columns)\n",
    "        adf=adf[adf[0]!=datos_entidad_dfPPT[0][0]].reset_index(drop=True)\n",
    "        adf[1]=0\n",
    "        adf[1]=adf[1].astype('object')\n",
    "        adf[2]=adf[1].copy()\n",
    "        adf[3]=adf[1].copy()\n",
    "        dfPPT_2=dfPPT_2.set_index(datos_entidad_dfPPT[0][0])\n",
    "        for t in range(0,len(adf)):\n",
    "            a12=adf.loc[t,0]\n",
    "\n",
    "            for t2 in range(0,len(tryu_XY_2)):\n",
    "                a22=tryu_XY_2.loc[t2,0]\n",
    "\n",
    "                if a12==a22:\n",
    "                    adf.loc[t,1]=tryu_XY_2.loc[t2,1]\n",
    "                    adf.loc[t,2]=len(adf.loc[t,1].split())\n",
    "\n",
    "        lkj=pd.DataFrame(df11Ti_df22T[df11Ti_df22T[datos_entidad_dfPPT[0][0]]==mun_xx[yw]].replace(0,nan).dropna(axis=1).columns)\n",
    "        lkj=lkj[lkj[0]!=datos_entidad_dfPPT[0][0]].reset_index(drop=True)\n",
    "        lkj[1]=0\n",
    "        lkj[1]=lkj[1].astype('object')\n",
    "        lkj[2]=lkj[1].copy()\n",
    "        lkj[3]=lkj[1].copy()\n",
    "        for t in range(0,len(lkj)):\n",
    "            a12=lkj.loc[t,0]\n",
    "            \n",
    "\n",
    "            for t2 in range(0,len(tryu_XY_2)):\n",
    "                a22=tryu_XY_2.loc[t2,0]\n",
    "\n",
    "                if a12==a22:\n",
    "                    lkj.loc[t,1]=tryu_XY_2.loc[t2,1]\n",
    "                    lkj.loc[t,2]=len(lkj.loc[t,1].split())\n",
    "\n",
    "\n",
    "        for c2 in range(0,len(adf)):\n",
    "            for c1 in range(0,len(lkj)):\n",
    "\n",
    "                if set(adf.loc[c2,1].split())&set(lkj.loc[c1,1].split())==set(lkj.loc[c1,1].split()):\n",
    "                    lkj.loc[c1,3]=1\n",
    "\n",
    "        trope1=lkj[lkj[3]==1][0].reset_index(drop=True)\n",
    "        trope0=lkj[lkj[3]==0][0].reset_index(drop=True)\n",
    "\n",
    "        for pot in range(0,len(trope1)):\n",
    "            df11Ti_df22T.loc[mun_xx[yw],trope1[pot]]=1\n",
    "        for pot2 in range(0,len(trope0)):\n",
    "            df11Ti_df22T.loc[mun_xx[yw],trope0[pot2]]=0  \n",
    "        if len(trope0)>0:\n",
    "            if 'fallas1' in locals():\n",
    "                trope0_X=pd.DataFrame(lkj[lkj[3]==0][1].reset_index(drop=True))\n",
    "                trope0_X[datos_entidad_dfPPT[0][0]]=mun_xx[yw]   \n",
    "                fallas1=pd.concat([fallas1,trope0_X])\n",
    "            else:\n",
    "\n",
    "                trope0_X=pd.DataFrame(lkj[lkj[3]==0][1].reset_index(drop=True))\n",
    "                trope0_X[datos_entidad_dfPPT[0][0]]=mun_xx[yw]\n",
    "                fallas1=trope0_X\n",
    "\n",
    "    #return fallas1"
   ]
  },
  {
   "cell_type": "code",
   "execution_count": 88,
   "metadata": {},
   "outputs": [],
   "source": [
    "if 'fallas1' in locals():\n",
    "    fallas1=fallas1.reset_index(drop=True)\n",
    "\n",
    "    rutX=rut+'/' \n",
    "    if os.path.exists(rutX)==False:\n",
    "        os.mkdir(rutX)\n",
    "\n",
    "    rut1_X8=rutX+'datos'\n",
    "\n",
    "\n",
    "    if os.path.exists(rut1_X8)==False:\n",
    "        os.mkdir(rut1_X8)\n",
    "\n",
    "\n",
    "    rut1_X8_1=rut1_X8+'/'\n",
    "\n",
    "    rut1_X8_1=rut1_X8_1+'bases_procesadas'\n",
    "    if os.path.exists(rut1_X8_1)==False:\n",
    "        os.mkdir(rut1_X8_1)\n",
    "\n",
    "\n",
    "    rut1_X8_1_x=rut1_X8_1+'/'+tipo_eleccion\n",
    "    if os.path.exists(rut1_X8_1_x)==False:\n",
    "        os.mkdir(rut1_X8_1_x)\n",
    "\n",
    "\n",
    "\n",
    "    rut1_X8_1_x=rut1_X8_1_x+'/'+año\n",
    "    if os.path.exists(rut1_X8_1_x)==False:\n",
    "        os.mkdir(rut1_X8_1_x)\n",
    "    rut1_X8_1_x=rut1_X8_1_x+'/'\n",
    "\n",
    "\n",
    "    rut1_X8_1_x=rut1_X8_1_x+'/'+'errores 1'\n",
    "\n",
    "    if os.path.exists(rut1_X8_1_x)==False:\n",
    "        os.mkdir(rut1_X8_1_x)\n",
    "    rut1_X8_1_x=rut1_X8_1_x+'/'\n",
    "\n",
    "    filename2 =rut1_X8_1_x+'errores 1' +'.csv'  #cuando se separa por municipio\n",
    "    fallas1.to_csv(filename2,index=False)"
   ]
  },
  {
   "cell_type": "code",
   "execution_count": null,
   "metadata": {},
   "outputs": [],
   "source": []
  },
  {
   "cell_type": "code",
   "execution_count": null,
   "metadata": {},
   "outputs": [],
   "source": []
  },
  {
   "cell_type": "code",
   "execution_count": null,
   "metadata": {},
   "outputs": [],
   "source": []
  },
  {
   "cell_type": "markdown",
   "metadata": {},
   "source": [
    "Aqui hace el procedimiento para todos municipios y al final se concatena el resultado"
   ]
  },
  {
   "cell_type": "code",
   "execution_count": 89,
   "metadata": {},
   "outputs": [],
   "source": [
    "if \"df11T_total\" in locals():\n",
    "    del(df11T_total)\n",
    "\n",
    "\n",
    "for ID_eleccion in list3345[list3345.columns[0]]:\n",
    "#for ID_eleccion in list3345[list3345.columns[0]]:\n",
    "    \n",
    "\n",
    "    if list3345.columns[0]=='distrito_l':\n",
    "        df11Ti_df22T_list1=df11Ti_df22T[df11Ti_df22T['distrito_l']==ID_eleccion].dropna(axis=1)\n",
    "        df11Ti=df11T[df11T['distrito_l']==ID_eleccion].reset_index(drop=True)\n",
    "        df11Ti_df22T_list1=pd.DataFrame(df11Ti_df22T_list1.columns)\n",
    "        df11Ti_df22T_list1=df11Ti_df22T_list1[df11Ti_df22T_list1[0]!='distrito_l']\n",
    "        region='distritol_'+str(df11Ti['distrito_l'].unique()[0])\n",
    "        ventil='ventilL'  \n",
    "\n",
    "    if list3345.columns[0]=='municipio':\n",
    "        df11Ti_df22T_list1=df11Ti_df22T[df11Ti_df22T['municipio']==ID_eleccion].dropna(axis=1)\n",
    "        df11Ti=df11T[df11T['municipio']==ID_eleccion].reset_index(drop=True)\n",
    "        df11Ti_df22T_list1=pd.DataFrame(df11Ti_df22T_list1.columns)\n",
    "        df11Ti_df22T_list1=df11Ti_df22T_list1[df11Ti_df22T_list1[0]!='municipio']\n",
    "        pruebah2=pd.DataFrame(df11Ti.columns)\n",
    "        pruebah2=pruebah2[pruebah2[0]=='Nom_mun']\n",
    "        if len(pruebah2)>=1:\n",
    "            region='municipio_'+str(df11Ti['municipio'].unique()[0])+'_'+str(df11Ti['Nom_mun'].unique()[0])\n",
    "        else:\n",
    "            if len(df11Ti)>=1:\n",
    "                region='municipio_'+str(df11Ti['municipio'].unique()[0])\n",
    "        ventil='ventilL'  \n",
    "\n",
    "    if list3345.columns[0]=='distrito_f':\n",
    "        df11Ti_df22T_list1=df11Ti_df22T[df11Ti_df22T['distrito_f']==ID_eleccion].dropna(axis=1)\n",
    "        df11Ti=df11T[df11T['distrito_f']==ID_eleccion].reset_index(drop=True)\n",
    "        df11Ti_df22T_list1=pd.DataFrame(df11Ti_df22T_list1.columns)\n",
    "        df11Ti_df22T_list1=df11Ti_df22T_list1[df11Ti_df22T_list1[0]!='distrito_f']\n",
    "        region='distritof_'+str(df11Ti['distrito_f'].unique()[0])\n",
    "\n",
    "    if list3345.columns[0]=='entidad':\n",
    "\n",
    "        df11Ti_df22T_list1=df11Ti_df22T[df11Ti_df22T['entidad']==ID_eleccion].dropna(axis=1)\n",
    "        df11Ti=df11T[df11T['entidad']==ID_eleccion].reset_index(drop=True)\n",
    "        df11Ti_df22T_list1=pd.DataFrame(df11Ti_df22T_list1.columns)\n",
    "        df11Ti_df22T_list1=df11Ti_df22T_list1[df11Ti_df22T_list1[0]!='entidad']\n",
    "        pruebah2=pd.DataFrame(df11Ti.columns)\n",
    "        pruebah2=pruebah2[pruebah2[0]=='Nom_ent']\n",
    "        if len(pruebah2)>=1:\n",
    "            region='entidad_'+str(df11Ti['entidad'].unique()[0])+'_'+str(df11Ti['Nom_ent'].unique()[0])\n",
    "        else:\n",
    "            if len(df11Ti)>=1:\n",
    "                region='entidad_'+str(df11Ti['entidad'].unique()[0])    \n",
    "\n",
    "\n",
    "\n",
    "\n",
    "    tryu=pd.merge(tryu_XY,df11Ti_df22T_list1).reset_index(drop=True)\n",
    "    tryu_2=pd.merge(tryu_XY_2,df11Ti_df22T_list1).reset_index(drop=True)\n",
    "\n",
    "    participantes_2,participantes_2_XZ_2N=mod_1.procesamiento_2_2(df11Ti,tryu_XY_2)\n",
    "\n",
    "\n",
    "\n",
    "    df11Ti,datoseleccion_1,Cualiciones,participantes,Cualiciones_1=mod_1.procesamiento_3(df11Ti,participantes_2,sinCoa1X_2,datoseleccion_1_2,nombresst1_2,datos_entidad)\n",
    "    df11Ti,partidos_porcen=mod_1.procesamiento_4(df11Ti,Cualiciones_1,Partidos,participantes) #separa en XX  \n",
    "\n",
    "    if \"df11T_total\" in locals():\n",
    "\n",
    "        df11T_total=pd.concat([df11T_total,df11Ti])\n",
    "\n",
    "    else:\n",
    "        df11T_total=df11Ti.copy()"
   ]
  },
  {
   "cell_type": "markdown",
   "metadata": {},
   "source": [
    "se le pega la informacion de los ventiles"
   ]
  },
  {
   "cell_type": "code",
   "execution_count": 90,
   "metadata": {},
   "outputs": [],
   "source": [
    "df11T_TP=pd.merge(gdf1[['entidad',  'seccion', 'ventilN', 'ventilL']]\n",
    "                ,df11T_total,how='right',on=['entidad', 'seccion'])  "
   ]
  },
  {
   "cell_type": "markdown",
   "metadata": {},
   "source": [
    "se acomodan un poco las variables"
   ]
  },
  {
   "cell_type": "code",
   "execution_count": null,
   "metadata": {},
   "outputs": [],
   "source": [
    "df11Ti=df11T_TP.copy()\n",
    "prueba3=pd.Series(df11Ti.columns).reset_index()\n",
    "prueba1=pd.Series(df11Ti.columns)\n",
    "prueba5=pd.Series(list(set(prueba1)-set(partidos_porcen))).reset_index() \n",
    "w0=pd.merge(prueba3,prueba5[[0]],how='inner',on=0)\n",
    "w1=w0[0]\n",
    "df11Ti=df11Ti[pd.concat([w1,partidos_porcen])]\n",
    "df11Ti"
   ]
  },
  {
   "cell_type": "code",
   "execution_count": null,
   "metadata": {},
   "outputs": [],
   "source": []
  },
  {
   "cell_type": "code",
   "execution_count": null,
   "metadata": {},
   "outputs": [],
   "source": []
  },
  {
   "cell_type": "code",
   "execution_count": null,
   "metadata": {},
   "outputs": [],
   "source": []
  },
  {
   "attachments": {},
   "cell_type": "markdown",
   "metadata": {},
   "source": [
    "esta parte genera una ruta para guardar el dataframe "
   ]
  },
  {
   "cell_type": "code",
   "execution_count": null,
   "metadata": {},
   "outputs": [],
   "source": [
    "rutX=rut+'/Pais/' \n",
    "if os.path.exists(rutX)==False:\n",
    "    os.mkdir(rutX)\n",
    "\n",
    "rut1=rutX+'datos'\n",
    "\n",
    "\n",
    "if os.path.exists(rut1)==False:\n",
    "    os.mkdir(rut1)\n",
    "\n",
    "\n",
    "rut1_1=rut1+'/'\n",
    "\n",
    "rut1_1=rut1_1+'bases_procesadas'\n",
    "if os.path.exists(rut1_1)==False:\n",
    "    os.mkdir(rut1_1)\n",
    "\n",
    "\n",
    "rut1_1_x=rut1_1+'/'+tipo_eleccion\n",
    "if os.path.exists(rut1_1_x)==False:\n",
    "    os.mkdir(rut1_1_x)\n",
    "\n",
    "\n",
    "\n",
    "rut1_1_x=rut1_1_x+'/'+año\n",
    "if os.path.exists(rut1_1_x)==False:\n",
    "    os.mkdir(rut1_1_x)\n",
    "rut1_1_x=rut1_1_x+'/'\n",
    "rut1_1_x  # ruta donde se va a guardar "
   ]
  },
  {
   "attachments": {},
   "cell_type": "markdown",
   "metadata": {},
   "source": [
    "esta parte acomoda las calumnas del dataframe (de una forma estadarizada)"
   ]
  },
  {
   "cell_type": "code",
   "execution_count": null,
   "metadata": {},
   "outputs": [],
   "source": []
  },
  {
   "cell_type": "code",
   "execution_count": 93,
   "metadata": {},
   "outputs": [],
   "source": [
    "#filename2 =rut1_1_x+tipo_eleccion+'_elec_'+año+'_'+entidad+'_Municipio_'+str(nombre_municipio) +'.csv'  #cuando se separa por municipio\n",
    "filename2 =rut1_1_x+tipo_eleccion.replace(' ','-')+'_elec_'+año+\"_\"+prep_AA+'_XXX.csv'\n",
    "df11Ti.to_csv(filename2,index=False)"
   ]
  },
  {
   "cell_type": "code",
   "execution_count": null,
   "metadata": {},
   "outputs": [],
   "source": [
    "filename2"
   ]
  },
  {
   "cell_type": "code",
   "execution_count": null,
   "metadata": {},
   "outputs": [],
   "source": [
    "df11Ti"
   ]
  },
  {
   "cell_type": "code",
   "execution_count": null,
   "metadata": {},
   "outputs": [],
   "source": []
  },
  {
   "cell_type": "code",
   "execution_count": 96,
   "metadata": {},
   "outputs": [],
   "source": [
    "rt=pd.DataFrame(df11Ti.columns).copy()\n",
    "rt[1]=0\n",
    "for tr in range(0,len(rt)):\n",
    "    a=rt.iloc[tr,0][-2:]\n",
    "    b=rt.iloc[tr,0][-4:]\n",
    "    if a=='**':\n",
    "        rt.iloc[tr,1]=1\n",
    "    if b=='**_%':\n",
    "        rt.iloc[tr,1]=1\n",
    "rt=rt[rt[1]==0].reset_index(drop=True)\n",
    "df11Ti_2=df11Ti[rt[0]]"
   ]
  },
  {
   "cell_type": "code",
   "execution_count": 97,
   "metadata": {},
   "outputs": [],
   "source": [
    "#filename2 =rut1_1_x+tipo_eleccion+'_elec_'+año+'_'+entidad+'_Municipio_'+str(nombre_municipio) +'.csv'  #cuando se separa por municipio\n",
    "filename2 =rut1_1_x+tipo_eleccion.replace(' ','-')+'_elec_'+año+\"_\"+prep_AA+'_sumada.csv'\n",
    "df11Ti_2.to_csv(filename2,index=False)"
   ]
  },
  {
   "cell_type": "code",
   "execution_count": null,
   "metadata": {},
   "outputs": [],
   "source": [
    "filename2"
   ]
  },
  {
   "cell_type": "code",
   "execution_count": null,
   "metadata": {},
   "outputs": [],
   "source": [
    "df11Ti.columns"
   ]
  },
  {
   "cell_type": "code",
   "execution_count": null,
   "metadata": {},
   "outputs": [],
   "source": [
    "df11Ti[df11Ti[ 'Lista Nominal'].isnull()][[ 'entidad', 'seccion', 'ventilN', 'ventilL', 'municipio', 'Nom_mun',\n",
    "       'Nom_ent', 'PAN', 'PRI', 'PRD', 'PT', 'PVEM', 'MC', 'PAS', 'MORENA',\n",
    "       'PES', 'PAN PRI PRD PAS', 'PAN PRI PRD', 'PAN PRI PAS', 'PAN PRD PAS',\n",
    "       'PRI PRD PAS', 'PAN PRI', 'PAN PRD', 'PAN PAS', 'PRI PRD', 'PRI PAS',\n",
    "       'PRD PAS', 'NUM VOTOS CAN NREG', 'NUM VOTOS NULOS', 'Lista Nominal']]"
   ]
  },
  {
   "cell_type": "code",
   "execution_count": null,
   "metadata": {},
   "outputs": [],
   "source": [
    "df11Ti[\"Lista Nominal\"]"
   ]
  },
  {
   "cell_type": "code",
   "execution_count": null,
   "metadata": {},
   "outputs": [],
   "source": [
    "df11Ti[df11Ti[ 'Lista Nominal'].isnull()]"
   ]
  },
  {
   "cell_type": "code",
   "execution_count": null,
   "metadata": {},
   "outputs": [],
   "source": []
  },
  {
   "cell_type": "code",
   "execution_count": null,
   "metadata": {},
   "outputs": [],
   "source": [
    "aqui finaliza el programa\n"
   ]
  },
  {
   "cell_type": "code",
   "execution_count": null,
   "metadata": {},
   "outputs": [],
   "source": []
  },
  {
   "cell_type": "code",
   "execution_count": null,
   "metadata": {},
   "outputs": [],
   "source": []
  },
  {
   "cell_type": "code",
   "execution_count": null,
   "metadata": {},
   "outputs": [],
   "source": []
  },
  {
   "cell_type": "code",
   "execution_count": null,
   "metadata": {},
   "outputs": [],
   "source": []
  },
  {
   "cell_type": "markdown",
   "metadata": {},
   "source": [
    "# Revisando el resultado de Sinaloa"
   ]
  },
  {
   "cell_type": "code",
   "execution_count": null,
   "metadata": {},
   "outputs": [],
   "source": [
    "pd.set_option('display.max_rows', None)  # Muestra todas las filas\n",
    "pd.set_option('display.max_columns', None)  # Muestra todas las columnas\n",
    "\n",
    "dato1=df11Ti_2[df11Ti_2[\"municipio\"]==1]\n",
    "\n",
    "dato1.columns"
   ]
  },
  {
   "cell_type": "code",
   "execution_count": null,
   "metadata": {},
   "outputs": [],
   "source": [
    "df11Ti_2.groupby([ 'municipio', 'Nom_mun',\n",
    "       'Nom_ent'])[['PAN', 'PRI', 'PRD', 'PT', 'PVEM', 'MC', 'PAS', 'MORENA',\n",
    "       'PES', 'PAN PRI PRD PAS', 'PAN PRI PRD', 'PAN PRI PAS', 'PAN PRD PAS',\n",
    "       'PRI PRD PAS', 'PAN PRI', 'PAN PRD', 'PAN PAS', 'PRI PRD', 'PRI PAS',\n",
    "       'PRD PAS', 'NUM VOTOS CAN NREG', 'NUM VOTOS NULOS', 'Lista Nominal',\n",
    "       'C PAN PRI PRD PAS', 'VT_calculado', 'Lista Nominal']].sum()"
   ]
  },
  {
   "cell_type": "code",
   "execution_count": null,
   "metadata": {},
   "outputs": [],
   "source": [
    "lll=df11Ti_2.groupby([ 'municipio', 'Nom_mun',\n",
    "       'Nom_ent'])[['PAN', 'PRI', 'PRD', 'PAS', 'PAN PRI PRD PAS', 'PAN PRI PRD', 'PAN PRI PAS', 'PAN PRD PAS',\n",
    "       'PRI PRD PAS', 'PAN PRI', 'PAN PRD', 'PAN PAS', 'PRI PRD', 'PRI PAS',\n",
    "       'PRD PAS', 'Lista Nominal','C PAN PRI PRD PAS', 'VT_calculado']].sum().reset_index()\n",
    "\n",
    "lll.columns"
   ]
  },
  {
   "cell_type": "code",
   "execution_count": null,
   "metadata": {},
   "outputs": [],
   "source": [
    "ll_l=lll[lll['municipio']==11]\n",
    "\n",
    "\n",
    "ll_l[['PAN', 'PRI', 'PRD', 'PAS', 'PAN PRI PRD PAS', 'PAN PRI PRD',\n",
    "       'PAN PRI PAS', 'PAN PRD PAS', 'PRI PRD PAS', 'PAN PRI', 'PAN PRD',\n",
    "       'PAN PAS', 'PRI PRD', 'PRI PAS', 'PRD PAS']].sum().sum()"
   ]
  },
  {
   "cell_type": "code",
   "execution_count": null,
   "metadata": {},
   "outputs": [],
   "source": [
    "5806 +10738 +956+7938"
   ]
  },
  {
   "cell_type": "code",
   "execution_count": null,
   "metadata": {},
   "outputs": [],
   "source": [
    "abriendo el primer dato"
   ]
  },
  {
   "cell_type": "code",
   "execution_count": 37,
   "metadata": {},
   "outputs": [],
   "source": [
    "sss=\"/Users/ds/Documents/Base_municipales_200924/Pais/datos/bases_procesadas/Municipal/2024/Sinaloa/Municipal_elec_2024_Sinaloa_sumada.csv\"\n",
    "base222=pd.read_csv(sss, header=0)\n"
   ]
  },
  {
   "cell_type": "code",
   "execution_count": null,
   "metadata": {},
   "outputs": [],
   "source": [
    "base222.groupby([ 'municipio', 'Nom_mun',\n",
    "       'Nom_ent'])[['PAN', 'PRI', 'PRD', 'PT', 'PVEM', 'MC', 'PAS', 'MORENA',\n",
    "       'PES', 'PAN PRI PRD PAS', 'PAN PRI PRD', 'PAN PRI PAS', 'PAN PRD PAS',\n",
    "       'PRI PRD PAS', 'PAN PRI', 'PAN PRD', 'PAN PAS', 'PRI PRD', 'PRI PAS',\n",
    "       'PRD PAS', 'NUM VOTOS CAN NREG', 'NUM VOTOS NULOS', 'Lista Nominal',\n",
    "       'C PAN PRI PRD PAS', 'VT_calculado', 'Lista Nominal']].sum()"
   ]
  },
  {
   "cell_type": "code",
   "execution_count": null,
   "metadata": {},
   "outputs": [],
   "source": [
    "863666-352760"
   ]
  },
  {
   "cell_type": "code",
   "execution_count": null,
   "metadata": {},
   "outputs": [],
   "source": []
  },
  {
   "cell_type": "code",
   "execution_count": null,
   "metadata": {},
   "outputs": [],
   "source": []
  },
  {
   "cell_type": "code",
   "execution_count": null,
   "metadata": {},
   "outputs": [],
   "source": []
  },
  {
   "cell_type": "code",
   "execution_count": null,
   "metadata": {},
   "outputs": [],
   "source": [
    "cgfy"
   ]
  },
  {
   "cell_type": "code",
   "execution_count": null,
   "metadata": {},
   "outputs": [],
   "source": []
  },
  {
   "cell_type": "code",
   "execution_count": null,
   "metadata": {},
   "outputs": [],
   "source": []
  },
  {
   "cell_type": "code",
   "execution_count": null,
   "metadata": {},
   "outputs": [],
   "source": []
  },
  {
   "cell_type": "code",
   "execution_count": null,
   "metadata": {},
   "outputs": [],
   "source": []
  },
  {
   "cell_type": "code",
   "execution_count": null,
   "metadata": {},
   "outputs": [],
   "source": []
  },
  {
   "cell_type": "code",
   "execution_count": null,
   "metadata": {},
   "outputs": [],
   "source": []
  },
  {
   "cell_type": "code",
   "execution_count": null,
   "metadata": {},
   "outputs": [],
   "source": []
  },
  {
   "cell_type": "code",
   "execution_count": null,
   "metadata": {},
   "outputs": [],
   "source": []
  },
  {
   "cell_type": "code",
   "execution_count": null,
   "metadata": {},
   "outputs": [],
   "source": []
  },
  {
   "cell_type": "code",
   "execution_count": null,
   "metadata": {},
   "outputs": [],
   "source": []
  },
  {
   "cell_type": "code",
   "execution_count": null,
   "metadata": {},
   "outputs": [],
   "source": []
  },
  {
   "cell_type": "code",
   "execution_count": null,
   "metadata": {},
   "outputs": [],
   "source": []
  },
  {
   "cell_type": "code",
   "execution_count": null,
   "metadata": {},
   "outputs": [],
   "source": []
  },
  {
   "cell_type": "code",
   "execution_count": null,
   "metadata": {},
   "outputs": [],
   "source": []
  },
  {
   "cell_type": "code",
   "execution_count": null,
   "metadata": {},
   "outputs": [],
   "source": []
  },
  {
   "cell_type": "code",
   "execution_count": null,
   "metadata": {},
   "outputs": [],
   "source": []
  },
  {
   "cell_type": "code",
   "execution_count": null,
   "metadata": {},
   "outputs": [],
   "source": []
  },
  {
   "cell_type": "markdown",
   "metadata": {},
   "source": [
    "# Creando las bases de datos de cada municipio del estado\n"
   ]
  },
  {
   "cell_type": "code",
   "execution_count": null,
   "metadata": {},
   "outputs": [],
   "source": [
    "df11T.columns"
   ]
  },
  {
   "cell_type": "code",
   "execution_count": null,
   "metadata": {},
   "outputs": [],
   "source": [
    "# Supongamos que df11T_municipio es un DataFrame de pandas\n",
    "lista_municipios = []\n",
    "for i in df11T_municipio['Nom_mun'].unique():\n",
    "    lista_municipios.append(i)  # Usa paréntesis\n",
    "\n",
    "# Ahora, supongamos que quieres encontrar el máximo de una columna específica\n",
    "# Por ejemplo, digamos que tienes una columna 'valor' en df11T_municipio\n",
    "\n",
    "maximos = {}\n",
    "for mun in lista_municipios:\n",
    "    maximo = df11T_municipio[df11T_municipio['Nom_mun'] == mun]['valor'].max()\n",
    "    maximos[mun] = maximo\n",
    "\n",
    "print(maximos)  # Muestra el máximo por cada municipio\n"
   ]
  },
  {
   "cell_type": "code",
   "execution_count": null,
   "metadata": {},
   "outputs": [],
   "source": [
    "municipios=[]\n",
    "independiente=['CAND_IND_1', 'CAND_IND_2', 'CAND_IND_3',\n",
    "       'CAND_IND_4', 'CAND_IND_5', 'CAND_IND_6', 'CAND_IND_7', 'CAND_IND_8',\n",
    "       'CAND_IND_9']\n",
    "\n",
    "\n",
    "\n",
    "\n",
    "\n",
    "for no_municipio in df11T['municipio'].unique():\n",
    "    df11T_municipio = df11T[df11T[\"municipio\"]==no_municipio]\n",
    "    for ind in df11T_municipio[independiente]:\n",
    "        suma=df11T_municipio[ind].sum()\n",
    "        if suma==0:\n",
    "            df11T_municipio = df11T_municipio.drop(ind, axis=1)\n",
    "            \n",
    "\n",
    "    #Hasta este punto ya se eliminaron los candidatos que estan vacios en las elecciones\n",
    "    frecuencia = df11T_municipio['Nom_mun'].value_counts()\n",
    "\n",
    "    # Obtener el municipio más frecuente\n",
    "    palabra_frecuente = frecuencia.idxmax()\n",
    "    nombre_municipio=palabra_frecuente.replace(\" \", \"_\")\n",
    "    titulo=tipo_eleccion+\"_elec_\"+año+\"_\"+nombre_municipio+\"_\"\n",
    "\n",
    "\n",
    "\n",
    "\n",
    "    print(titulo)"
   ]
  },
  {
   "cell_type": "code",
   "execution_count": null,
   "metadata": {},
   "outputs": [],
   "source": [
    "len(municipios)"
   ]
  },
  {
   "cell_type": "code",
   "execution_count": null,
   "metadata": {},
   "outputs": [],
   "source": []
  },
  {
   "cell_type": "code",
   "execution_count": null,
   "metadata": {},
   "outputs": [],
   "source": [
    "df_entidad=[]\n",
    "\n",
    "for nom_estado in df11T['Nom_ent'].unique():\n",
    "    #clasificando por estado/entidad\n",
    "    df_estado = df11T[df11T[\"Nom_ent\"]== nom_estado]\n",
    "    region='Estados Unidos Mexicanos'\n",
    "    titulo=('Elecciones: '+tipo_eleccion+' '+año +'\\n'+region.replace('_',' ').split()[0][0].upper()+region.replace('_',' ').split()[0][1:]\n",
    "               +' '+region.replace('_',' ').split()[1]+  ' '  \n",
    "               +    ' '.join(region.replace('_',' ').split()[2:] )+ \"\\n\" + nom_estado)      #### con este se cambia el titulo en la grafica\n",
    "           \n",
    "            #modificando el titulo agragando el id del distriti_f\n",
    "    titulo=titulo.replace('_',' ')\n",
    "\n",
    "            ####################### Limpiando el titulo de la variable df\n",
    "    x_clean=nom_estado.replace(\" \", \"_\").replace(\".\", \"\").replace(\"/\", \"_\")\n",
    "    df11T_df_Cabecera= f\"df11T_{x_clean}\"  #De esta forma se llamaran las variables\n",
    "            #creando la variable dinamica con el titulo correspondiente a las iteraciones del for\n",
    "    globals()[df11T_df_Cabecera] = df_estado\n",
    "\n",
    "    df_entidad.append(f\"df11T_{x_clean}\")\n",
    "\n",
    "\n",
    "    df11T_df_Cabecera1=globals()[df11T_df_Cabecera]\n",
    "\n",
    "\n",
    "            \n",
    "    rutk2=rut\n",
    "    rutXX_2=rutk2+'/Pais/' \n",
    "    rut4=rutXX_2+'graficas'\n",
    "    if os.path.exists(rut4)==False:\n",
    "        os.mkdir(rut4)\n",
    "    rut4_2=rut4+'/'+tipo_eleccion\n",
    "    if os.path.exists(rut4_2)==False:\n",
    "        os.mkdir(rut4_2)\n",
    "    rut4_2_x=rut4_2+'/'+año\n",
    "    if os.path.exists(rut4_2_x)==False:\n",
    "        os.mkdir(rut4_2_x) \n",
    "    rut4_2_x=rut4_2_x+'/'\n",
    "\n",
    "    rut_CV=rut4_2_x+tipo_eleccion.replace(' ','-')+'_elec_'+año+'_'+str(region).replace(' ','-')\n",
    "\n",
    "\n",
    "    fig_ventiles = grafica_ventiles(df11T_df_Cabecera1, titulo)\n",
    "    graf1=rut_CV+\"_\"+x_clean+\"_\"+'_ventiles.png'   ####Aqui se modifica el nombre para guardar \n",
    "    fig_ventiles.savefig(fname=graf1)\n",
    "    fig_ventiles.close()\n",
    "\n",
    "    fig_participacion= grafica_participacion(df11T_df_Cabecera1, titulo)  #regresa  fig_participacion\n",
    "    graf2=rut_CV+\"_\"+x_clean+\"_\"+'_participacion.png'\n",
    "    fig_participacion.savefig(fname=graf2)\n",
    "    fig_participacion.close()\n",
    "\n",
    "    fig_resultados=grafica_resultados(df11T_df_Cabecera1,titulo)  #regresa fig_resultados\n",
    "    graf3=rut_CV+\"_\"+x_clean+\"_\"+'_resultados.png'\n",
    "    fig_resultados.savefig(fname=graf3)\n",
    "    fig_resultados.close()\n",
    "            \n",
    "\n",
    "\n",
    "print(df_entidad)"
   ]
  },
  {
   "cell_type": "code",
   "execution_count": null,
   "metadata": {},
   "outputs": [],
   "source": []
  },
  {
   "cell_type": "code",
   "execution_count": null,
   "metadata": {},
   "outputs": [],
   "source": [
    "independiente=['CAND_IND_1', 'CAND_IND_2', 'CAND_IND_3',\n",
    "       'CAND_IND_4', 'CAND_IND_5', 'CAND_IND_6', 'CAND_IND_7', 'CAND_IND_8',\n",
    "       'CAND_IND_9']\n",
    "\n",
    "\n",
    "for ind in df11T[independiente]:\n",
    "    suma=df11T[ind].sum()\n",
    "    print(suma)"
   ]
  },
  {
   "cell_type": "code",
   "execution_count": null,
   "metadata": {},
   "outputs": [],
   "source": []
  },
  {
   "cell_type": "code",
   "execution_count": null,
   "metadata": {},
   "outputs": [],
   "source": []
  },
  {
   "cell_type": "code",
   "execution_count": null,
   "metadata": {},
   "outputs": [],
   "source": []
  },
  {
   "cell_type": "code",
   "execution_count": null,
   "metadata": {},
   "outputs": [],
   "source": []
  },
  {
   "cell_type": "code",
   "execution_count": null,
   "metadata": {},
   "outputs": [],
   "source": []
  },
  {
   "cell_type": "code",
   "execution_count": null,
   "metadata": {},
   "outputs": [],
   "source": []
  },
  {
   "cell_type": "code",
   "execution_count": null,
   "metadata": {},
   "outputs": [],
   "source": []
  },
  {
   "cell_type": "code",
   "execution_count": null,
   "metadata": {},
   "outputs": [],
   "source": []
  },
  {
   "cell_type": "code",
   "execution_count": null,
   "metadata": {},
   "outputs": [],
   "source": []
  },
  {
   "cell_type": "code",
   "execution_count": null,
   "metadata": {},
   "outputs": [],
   "source": []
  },
  {
   "cell_type": "code",
   "execution_count": null,
   "metadata": {},
   "outputs": [],
   "source": []
  },
  {
   "cell_type": "code",
   "execution_count": null,
   "metadata": {},
   "outputs": [],
   "source": []
  },
  {
   "cell_type": "code",
   "execution_count": null,
   "metadata": {},
   "outputs": [],
   "source": []
  },
  {
   "cell_type": "code",
   "execution_count": null,
   "metadata": {},
   "outputs": [],
   "source": []
  },
  {
   "cell_type": "code",
   "execution_count": null,
   "metadata": {},
   "outputs": [],
   "source": []
  },
  {
   "cell_type": "code",
   "execution_count": null,
   "metadata": {},
   "outputs": [],
   "source": []
  },
  {
   "cell_type": "code",
   "execution_count": null,
   "metadata": {},
   "outputs": [],
   "source": [
    "sg"
   ]
  },
  {
   "cell_type": "markdown",
   "metadata": {},
   "source": []
  },
  {
   "cell_type": "markdown",
   "metadata": {},
   "source": [
    "# Municipios locales partidos politicos"
   ]
  },
  {
   "cell_type": "code",
   "execution_count": null,
   "metadata": {},
   "outputs": [],
   "source": [
    "# empatando la base con la de diputados federales  \n",
    "Ruta_base_prep=\"/Users/ds/Documents/DL_Ayuntamientos/Pais/datos/bases_procesadas/Diputados Locales/2024/Diputados-Locales_elec_2024_DIP MR_XXX.csv\"\n",
    "df11T=pd.read_csv(Ruta_base_prep,header=0)\n",
    "df11T.columns"
   ]
  },
  {
   "cell_type": "code",
   "execution_count": null,
   "metadata": {},
   "outputs": [],
   "source": [
    "df11T_mun=df11T[df11T[\"municipio\"]==10]\n",
    "df11T_mun"
   ]
  },
  {
   "cell_type": "code",
   "execution_count": null,
   "metadata": {},
   "outputs": [],
   "source": []
  },
  {
   "cell_type": "code",
   "execution_count": null,
   "metadata": {},
   "outputs": [],
   "source": [
    "rut=\"/Users/ds/Documents/Base_municipales_200924/Albaro_Obregon\"\n",
    "#tipo_eleccion='Municipal'  # de que fue la eleccion \n",
    "#tipo_eleccion='Diputados Federales' \n",
    "tipo_eleccion='Diputados Locales'\n",
    "#tipo_eleccion='Presidencial'  \n",
    "#tipo_eleccion='Gobernatura' \n",
    "#tipo_eleccion='Senaduria'\n",
    "#tipo_eleccion=\"Jefa de Gobierno\"\n",
    "#clave_entidad=15\n",
    "\n",
    "año='2024'                  #año de la eleccion  \n",
    "\n",
    "prep_AA='ALVARO_OBREGON'"
   ]
  },
  {
   "cell_type": "code",
   "execution_count": null,
   "metadata": {},
   "outputs": [],
   "source": [
    "rutX=rut+'/Pais/' \n",
    "if os.path.exists(rutX)==False:\n",
    "    os.mkdir(rutX)\n",
    "\n",
    "rut1=rutX+'datos'\n",
    "\n",
    "\n",
    "if os.path.exists(rut1)==False:\n",
    "    os.mkdir(rut1)\n",
    "\n",
    "\n",
    "rut1_1=rut1+'/'\n",
    "\n",
    "rut1_1=rut1_1+'base_11_sep_2024'\n",
    "if os.path.exists(rut1_1)==False:\n",
    "    os.mkdir(rut1_1)\n",
    "\n",
    "\n",
    "rut1_1_x=rut1_1+'/'+tipo_eleccion\n",
    "if os.path.exists(rut1_1_x)==False:\n",
    "    os.mkdir(rut1_1_x)\n",
    "\n",
    "\n",
    "\n",
    "rut1_1_x=rut1_1_x+'/'+año\n",
    "if os.path.exists(rut1_1_x)==False:\n",
    "    os.mkdir(rut1_1_x)\n",
    "rut1_1_x=rut1_1_x+'/'\n",
    "rut1_1_x  # ruta donde se va a guardar "
   ]
  },
  {
   "cell_type": "code",
   "execution_count": null,
   "metadata": {},
   "outputs": [],
   "source": [
    "#filename2 =rut1_1_x+tipo_eleccion+'_elec_'+año+'_'+entidad+'_Municipio_'+str(nombre_municipio) +'.csv'  #cuando se separa por municipio\n",
    "filename2 =rut1_1_x+tipo_eleccion.replace(' ','-')+'_elec_'+año+\"_\"+prep_AA+'_XXX.csv'\n",
    "df11T_mun.to_csv(filename2,index=False)"
   ]
  },
  {
   "cell_type": "code",
   "execution_count": null,
   "metadata": {},
   "outputs": [],
   "source": [
    "df11Ti=df11T_mun.copy()"
   ]
  },
  {
   "cell_type": "code",
   "execution_count": null,
   "metadata": {},
   "outputs": [],
   "source": [
    "rt=pd.DataFrame(df11Ti.columns).copy()\n",
    "rt[1]=0\n",
    "for tr in range(0,len(rt)):\n",
    "    a=rt.iloc[tr,0][-2:]\n",
    "    b=rt.iloc[tr,0][-4:]\n",
    "    if a=='**':\n",
    "        rt.iloc[tr,1]=1\n",
    "    if b=='**_%':\n",
    "        rt.iloc[tr,1]=1\n",
    "rt=rt[rt[1]==0].reset_index(drop=True)\n",
    "df11Ti_2=df11Ti[rt[0]]\n",
    "\n",
    "\n",
    "#filename2 =rut1_1_x+tipo_eleccion+'_elec_'+año+'_'+entidad+'_Municipio_'+str(nombre_municipio) +'.csv'  #cuando se separa por municipio\n",
    "filename2 =rut1_1_x+tipo_eleccion.replace(' ','-')+'_elec_'+año+\"_\"+prep_AA+'_sumada.csv'\n",
    "df11Ti_2.to_csv(filename2,index=False)"
   ]
  },
  {
   "cell_type": "code",
   "execution_count": null,
   "metadata": {},
   "outputs": [],
   "source": [
    "#filename2 =rut1_1_x+tipo_eleccion+'_elec_'+año+'_'+entidad+'_Municipio_'+str(nombre_municipio) +'.csv'  #cuando se separa por municipio\n",
    "filename2 =rut1_1_x+tipo_eleccion.replace(' ','-')+'_elec_'+año+\"_\"+prep_AA+'_sumada.csv'\n",
    "df11Ti_2.to_csv(filename2,index=False)"
   ]
  },
  {
   "cell_type": "code",
   "execution_count": null,
   "metadata": {},
   "outputs": [],
   "source": [
    "df11T_mun=df11T[(df11T[\"municipio\"]==10)] # & (df11T[\"municipio\"]==10)]\n",
    "df11T_mun"
   ]
  },
  {
   "cell_type": "code",
   "execution_count": null,
   "metadata": {},
   "outputs": [],
   "source": [
    "df11T.columns"
   ]
  },
  {
   "cell_type": "code",
   "execution_count": null,
   "metadata": {},
   "outputs": [],
   "source": [
    "df11T[['PAN', 'PRI', 'PRD', 'PVEM', 'PT',\n",
    "       'MC', 'MORENA', 'PAN PRI PRD', 'PAN PRI', 'PAN PRD', 'PRI PRD',\n",
    "       'PVEM PT MORENA', 'CAND IND 1', 'NUM VOTOS CAN NREG', 'NUM VOTOS NULOS',\n",
    "       'Lista Nominal', 'C PAN PRI PRD', 'C PVEM PT MORENA']].sum()"
   ]
  },
  {
   "cell_type": "code",
   "execution_count": null,
   "metadata": {},
   "outputs": [],
   "source": []
  },
  {
   "cell_type": "code",
   "execution_count": null,
   "metadata": {},
   "outputs": [],
   "source": []
  },
  {
   "cell_type": "code",
   "execution_count": null,
   "metadata": {},
   "outputs": [],
   "source": []
  },
  {
   "cell_type": "markdown",
   "metadata": {},
   "source": [
    "# Pagando la lista de minicipios"
   ]
  },
  {
   "cell_type": "code",
   "execution_count": null,
   "metadata": {},
   "outputs": [],
   "source": [
    "Ruta_base_prep=\"/Users/ds/Documents/DL_Ayuntamientos/Pais/datos/bases_procesadas/Presidencial/2024/Presidencial_elec_2024_20240608_2030_COMPUTOS_PRES_XXX.csv\"\n",
    "df11T=pd.read_csv(Ruta_base_prep,header=0)\n",
    "df11T.columns"
   ]
  },
  {
   "cell_type": "code",
   "execution_count": null,
   "metadata": {},
   "outputs": [],
   "source": [
    "df11T[\"Nom_ent\"].unique()"
   ]
  },
  {
   "cell_type": "code",
   "execution_count": null,
   "metadata": {},
   "outputs": [],
   "source": [
    "df11T=df11T[df11T[\"Nom_ent\"]=='MÉXICO']\n",
    "df11T"
   ]
  },
  {
   "cell_type": "code",
   "execution_count": null,
   "metadata": {},
   "outputs": [],
   "source": [
    "Ruta_base_prep2=\"/Users/ds/Documents/DL_Ayuntamientos/Pais/datos/base_11_sep_2024/Municipal/2024/Municipal_elec_2024_NAUCALPAN_XXX.csv\"\n",
    "df11T_secciones=pd.read_csv(Ruta_base_prep2,header=0)\n",
    "df11T_secciones.columns"
   ]
  },
  {
   "cell_type": "code",
   "execution_count": null,
   "metadata": {},
   "outputs": [],
   "source": []
  },
  {
   "cell_type": "code",
   "execution_count": null,
   "metadata": {},
   "outputs": [],
   "source": [
    "df11T_secciones[['seccion', 'municipio','Nom_mun']]"
   ]
  },
  {
   "cell_type": "code",
   "execution_count": null,
   "metadata": {},
   "outputs": [],
   "source": [
    "df11T_TP=pd.merge(df11T,df11T_secciones[['seccion', 'municipio','Nom_mun']],how='inner',on=['seccion'])  "
   ]
  },
  {
   "cell_type": "code",
   "execution_count": null,
   "metadata": {},
   "outputs": [],
   "source": [
    "df11T_TP.columns"
   ]
  },
  {
   "cell_type": "code",
   "execution_count": null,
   "metadata": {},
   "outputs": [],
   "source": [
    "df11Tii=df11T_TP[['entidad', 'seccion', 'ventilN', 'ventilL', 'municipio','distrito_f','Nom_mun', 'Nom_ent',\n",
    "       'DF_Cabecera', 'PAN', 'PRI', 'PRD', 'PVEM', 'PT', 'MC', 'MORENA',\n",
    "       'PAN PRI PRD', 'PAN PRI', 'PAN PRD', 'PRI PRD', 'PVEM PT MORENA',\n",
    "       'PVEM PT', 'PVEM MORENA', 'PT MORENA', 'NUM VOTOS CAN NREG',\n",
    "       'NUM VOTOS NULOS', 'Lista Nominal', 'C PAN PRI PRD', 'C PVEM PT MORENA',\n",
    "       'CVE', 'NCVE', 'VT_calculado', 'ganador', 'participacion', 'PAN_**',\n",
    "       'PRI_**', 'PRD_**', 'PVEM_**', 'PT_**', 'MORENA_**', 'C PAN PRI PRD_%',\n",
    "       'C PVEM PT MORENA_%', 'MC_%', 'NUM VOTOS CAN NREG_%',\n",
    "       'NUM VOTOS NULOS_%', 'PAN_**_%', 'PRI_**_%', 'PRD_**_%', 'PVEM_**_%',\n",
    "       'PT_**_%', 'MORENA_**_%']]\n",
    "df11Tii"
   ]
  },
  {
   "cell_type": "code",
   "execution_count": null,
   "metadata": {},
   "outputs": [],
   "source": [
    "rut='/Users/ds/Documents/DL_Ayuntamientos'    #Ruta donde se guardan las bases\n",
    "#tipo_eleccion='Municipal'  # de que fue la eleccion \n",
    "#tipo_eleccion='Diputados Federales' \n",
    "#tipo_eleccion='Diputados Locales'\n",
    "tipo_eleccion='Presidencial'  \n",
    "#tipo_eleccion='Gobernatura' \n",
    "#tipo_eleccion='Senaduria'\n",
    "\n",
    "#clave_entidad=15\n",
    "\n",
    "año='2024'                  #año de la eleccion  \n",
    "\n",
    "prep_AA='NAUCALPAN'"
   ]
  },
  {
   "cell_type": "code",
   "execution_count": null,
   "metadata": {},
   "outputs": [],
   "source": [
    "rutX=rut+'/Pais/' \n",
    "if os.path.exists(rutX)==False:\n",
    "    os.mkdir(rutX)\n",
    "\n",
    "rut1=rutX+'datos'\n",
    "\n",
    "\n",
    "if os.path.exists(rut1)==False:\n",
    "    os.mkdir(rut1)\n",
    "\n",
    "\n",
    "rut1_1=rut1+'/'\n",
    "\n",
    "rut1_1=rut1_1+'base_11_sep_2024'\n",
    "if os.path.exists(rut1_1)==False:\n",
    "    os.mkdir(rut1_1)\n",
    "\n",
    "\n",
    "rut1_1_x=rut1_1+'/'+tipo_eleccion\n",
    "if os.path.exists(rut1_1_x)==False:\n",
    "    os.mkdir(rut1_1_x)\n",
    "\n",
    "\n",
    "\n",
    "rut1_1_x=rut1_1_x+'/'+año\n",
    "if os.path.exists(rut1_1_x)==False:\n",
    "    os.mkdir(rut1_1_x)\n",
    "rut1_1_x=rut1_1_x+'/'\n",
    "rut1_1_x  # ruta donde se va a guardar "
   ]
  },
  {
   "cell_type": "code",
   "execution_count": null,
   "metadata": {},
   "outputs": [],
   "source": [
    "#filename2 =rut1_1_x+tipo_eleccion+'_elec_'+año+'_'+entidad+'_Municipio_'+str(nombre_municipio) +'.csv'  #cuando se separa por municipio\n",
    "filename2 =rut1_1_x+tipo_eleccion.replace(' ','-')+'_elec_'+año+\"_\"+prep_AA+'_XXX.csv'\n",
    "df11Tii.to_csv(filename2,index=False)"
   ]
  },
  {
   "cell_type": "code",
   "execution_count": null,
   "metadata": {},
   "outputs": [],
   "source": [
    "filename2"
   ]
  },
  {
   "cell_type": "code",
   "execution_count": null,
   "metadata": {},
   "outputs": [],
   "source": []
  },
  {
   "cell_type": "code",
   "execution_count": null,
   "metadata": {},
   "outputs": [],
   "source": []
  },
  {
   "cell_type": "code",
   "execution_count": null,
   "metadata": {},
   "outputs": [],
   "source": []
  },
  {
   "cell_type": "code",
   "execution_count": null,
   "metadata": {},
   "outputs": [],
   "source": []
  },
  {
   "cell_type": "code",
   "execution_count": null,
   "metadata": {},
   "outputs": [],
   "source": [
    "import pandas as pd\n",
    "ruta=\"/Users/ds/Documents/Base_municipales_200924/Pais/datos/bases_procesadas/Municipal/2024/Guanajuato/Municipal_elec_2024_09062024_1200_COMPUTOS_AYUN_GTO_XXX.csv\"\n",
    "df11T= pd.read_csv(ruta)\n",
    "df11T"
   ]
  },
  {
   "cell_type": "code",
   "execution_count": null,
   "metadata": {},
   "outputs": [],
   "source": [
    "df11T[df11T[\"municipio\"]==46][['PAN', 'PRI', 'PRD','PAN PRI PRD', 'PAN PRI', 'PAN PRD', 'PRI PRD']].sum().sum()"
   ]
  },
  {
   "cell_type": "code",
   "execution_count": null,
   "metadata": {},
   "outputs": [],
   "source": [
    "df11T.columns"
   ]
  },
  {
   "cell_type": "code",
   "execution_count": null,
   "metadata": {},
   "outputs": [],
   "source": []
  }
 ],
 "metadata": {
  "kernelspec": {
   "display_name": "base",
   "language": "python",
   "name": "python3"
  },
  "language_info": {
   "codemirror_mode": {
    "name": "ipython",
    "version": 3
   },
   "file_extension": ".py",
   "mimetype": "text/x-python",
   "name": "python",
   "nbconvert_exporter": "python",
   "pygments_lexer": "ipython3",
   "version": "3.12.4"
  },
  "orig_nbformat": 4
 },
 "nbformat": 4,
 "nbformat_minor": 2
}
